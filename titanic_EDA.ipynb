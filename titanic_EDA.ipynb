{
 "cells": [
  {
   "cell_type": "code",
   "execution_count": 1,
   "metadata": {},
   "outputs": [],
   "source": [
    "import pandas as pd\n",
    "import numpy as np\n",
    "import matplotlib.pyplot as plt\n",
    "import seaborn as sns\n",
    "plt.style.use('fivethirtyeight')\n",
    "%matplotlib inline"
   ]
  },
  {
   "cell_type": "code",
   "execution_count": 2,
   "metadata": {},
   "outputs": [],
   "source": [
    "titanic = pd.read_csv(\"titanic_train.csv\")"
   ]
  },
  {
   "cell_type": "code",
   "execution_count": 3,
   "metadata": {
    "scrolled": true
   },
   "outputs": [
    {
     "data": {
      "text/html": [
       "<div>\n",
       "<style scoped>\n",
       "    .dataframe tbody tr th:only-of-type {\n",
       "        vertical-align: middle;\n",
       "    }\n",
       "\n",
       "    .dataframe tbody tr th {\n",
       "        vertical-align: top;\n",
       "    }\n",
       "\n",
       "    .dataframe thead th {\n",
       "        text-align: right;\n",
       "    }\n",
       "</style>\n",
       "<table border=\"1\" class=\"dataframe\">\n",
       "  <thead>\n",
       "    <tr style=\"text-align: right;\">\n",
       "      <th></th>\n",
       "      <th>PassengerId</th>\n",
       "      <th>Survived</th>\n",
       "      <th>Pclass</th>\n",
       "      <th>Name</th>\n",
       "      <th>Sex</th>\n",
       "      <th>Age</th>\n",
       "      <th>SibSp</th>\n",
       "      <th>Parch</th>\n",
       "      <th>Ticket</th>\n",
       "      <th>Fare</th>\n",
       "      <th>Cabin</th>\n",
       "      <th>Embarked</th>\n",
       "    </tr>\n",
       "  </thead>\n",
       "  <tbody>\n",
       "    <tr>\n",
       "      <th>0</th>\n",
       "      <td>1</td>\n",
       "      <td>0</td>\n",
       "      <td>3</td>\n",
       "      <td>Braund, Mr. Owen Harris</td>\n",
       "      <td>male</td>\n",
       "      <td>22.0</td>\n",
       "      <td>1</td>\n",
       "      <td>0</td>\n",
       "      <td>A/5 21171</td>\n",
       "      <td>7.2500</td>\n",
       "      <td>NaN</td>\n",
       "      <td>S</td>\n",
       "    </tr>\n",
       "    <tr>\n",
       "      <th>1</th>\n",
       "      <td>2</td>\n",
       "      <td>1</td>\n",
       "      <td>1</td>\n",
       "      <td>Cumings, Mrs. John Bradley (Florence Briggs Th...</td>\n",
       "      <td>female</td>\n",
       "      <td>38.0</td>\n",
       "      <td>1</td>\n",
       "      <td>0</td>\n",
       "      <td>PC 17599</td>\n",
       "      <td>71.2833</td>\n",
       "      <td>C85</td>\n",
       "      <td>C</td>\n",
       "    </tr>\n",
       "    <tr>\n",
       "      <th>2</th>\n",
       "      <td>3</td>\n",
       "      <td>1</td>\n",
       "      <td>3</td>\n",
       "      <td>Heikkinen, Miss. Laina</td>\n",
       "      <td>female</td>\n",
       "      <td>26.0</td>\n",
       "      <td>0</td>\n",
       "      <td>0</td>\n",
       "      <td>STON/O2. 3101282</td>\n",
       "      <td>7.9250</td>\n",
       "      <td>NaN</td>\n",
       "      <td>S</td>\n",
       "    </tr>\n",
       "    <tr>\n",
       "      <th>3</th>\n",
       "      <td>4</td>\n",
       "      <td>1</td>\n",
       "      <td>1</td>\n",
       "      <td>Futrelle, Mrs. Jacques Heath (Lily May Peel)</td>\n",
       "      <td>female</td>\n",
       "      <td>35.0</td>\n",
       "      <td>1</td>\n",
       "      <td>0</td>\n",
       "      <td>113803</td>\n",
       "      <td>53.1000</td>\n",
       "      <td>C123</td>\n",
       "      <td>S</td>\n",
       "    </tr>\n",
       "    <tr>\n",
       "      <th>4</th>\n",
       "      <td>5</td>\n",
       "      <td>0</td>\n",
       "      <td>3</td>\n",
       "      <td>Allen, Mr. William Henry</td>\n",
       "      <td>male</td>\n",
       "      <td>35.0</td>\n",
       "      <td>0</td>\n",
       "      <td>0</td>\n",
       "      <td>373450</td>\n",
       "      <td>8.0500</td>\n",
       "      <td>NaN</td>\n",
       "      <td>S</td>\n",
       "    </tr>\n",
       "  </tbody>\n",
       "</table>\n",
       "</div>"
      ],
      "text/plain": [
       "   PassengerId  Survived  Pclass  \\\n",
       "0            1         0       3   \n",
       "1            2         1       1   \n",
       "2            3         1       3   \n",
       "3            4         1       1   \n",
       "4            5         0       3   \n",
       "\n",
       "                                                Name     Sex   Age  SibSp  \\\n",
       "0                            Braund, Mr. Owen Harris    male  22.0      1   \n",
       "1  Cumings, Mrs. John Bradley (Florence Briggs Th...  female  38.0      1   \n",
       "2                             Heikkinen, Miss. Laina  female  26.0      0   \n",
       "3       Futrelle, Mrs. Jacques Heath (Lily May Peel)  female  35.0      1   \n",
       "4                           Allen, Mr. William Henry    male  35.0      0   \n",
       "\n",
       "   Parch            Ticket     Fare Cabin Embarked  \n",
       "0      0         A/5 21171   7.2500   NaN        S  \n",
       "1      0          PC 17599  71.2833   C85        C  \n",
       "2      0  STON/O2. 3101282   7.9250   NaN        S  \n",
       "3      0            113803  53.1000  C123        S  \n",
       "4      0            373450   8.0500   NaN        S  "
      ]
     },
     "execution_count": 3,
     "metadata": {},
     "output_type": "execute_result"
    }
   ],
   "source": [
    "titanic.head()"
   ]
  },
  {
   "cell_type": "code",
   "execution_count": 4,
   "metadata": {},
   "outputs": [
    {
     "data": {
      "text/plain": [
       "PassengerId      0\n",
       "Survived         0\n",
       "Pclass           0\n",
       "Name             0\n",
       "Sex              0\n",
       "Age            177\n",
       "SibSp            0\n",
       "Parch            0\n",
       "Ticket           0\n",
       "Fare             0\n",
       "Cabin          687\n",
       "Embarked         2\n",
       "dtype: int64"
      ]
     },
     "execution_count": 4,
     "metadata": {},
     "output_type": "execute_result"
    }
   ],
   "source": [
    "#checking for total null values\n",
    "titanic.isnull().sum()"
   ]
  },
  {
   "cell_type": "markdown",
   "metadata": {},
   "source": [
    "#age, cabin and embarked has missing values.. we will try to fix them"
   ]
  },
  {
   "cell_type": "code",
   "execution_count": 5,
   "metadata": {},
   "outputs": [
    {
     "data": {
      "text/plain": [
       "<matplotlib.axes._subplots.AxesSubplot at 0x1be2bb96448>"
      ]
     },
     "execution_count": 5,
     "metadata": {},
     "output_type": "execute_result"
    },
    {
     "data": {
      "image/png": "[encoded data removed]",
      "text/plain": [
       "<Figure size 432x288 with 1 Axes>"
      ]
     },
     "metadata": {
      "needs_background": "light"
     },
     "output_type": "display_data"
    }
   ],
   "source": [
    "# how many survived\n",
    "\n",
    "sns.countplot('Survived', data = titanic)"
   ]
  },
  {
   "cell_type": "markdown",
   "metadata": {},
   "source": [
    "it is evident not many survived the disaster. "
   ]
  },
  {
   "cell_type": "code",
   "execution_count": 6,
   "metadata": {},
   "outputs": [
    {
     "data": {
      "text/plain": [
       "([<matplotlib.patches.Wedge at 0x1be2c34ca48>,\n",
       "  <matplotlib.patches.Wedge at 0x1be2c353688>],\n",
       " [Text(-0.3925749350994583, 1.0275626113924428, ''),\n",
       "  Text(0.3925750313068116, -1.0275625746369201, '')],\n",
       " [Text(-0.21413178278152267, 0.5604886971231505, '61.6%'),\n",
       "  Text(0.21413183525826085, -0.5604886770746836, '38.4%')])"
      ]
     },
     "execution_count": 6,
     "metadata": {},
     "output_type": "execute_result"
    },
    {
     "data": {
      "image/png": "[encoded data removed]",
      "text/plain": [
       "<Figure size 432x288 with 1 Axes>"
      ]
     },
     "metadata": {},
     "output_type": "display_data"
    }
   ],
   "source": [
    "plt.pie(titanic.Survived.value_counts(), autopct='%1.1f%%')"
   ]
  },
  {
   "cell_type": "markdown",
   "metadata": {},
   "source": [
    "# Analysing the features"
   ]
  },
  {
   "cell_type": "markdown",
   "metadata": {},
   "source": [
    "Sex - Categorical Feature"
   ]
  },
  {
   "cell_type": "code",
   "execution_count": 7,
   "metadata": {},
   "outputs": [
    {
     "data": {
      "text/plain": [
       "Sex     Survived\n",
       "female  1           233\n",
       "        0            81\n",
       "male    0           468\n",
       "        1           109\n",
       "Name: Survived, dtype: int64"
      ]
     },
     "execution_count": 7,
     "metadata": {},
     "output_type": "execute_result"
    }
   ],
   "source": [
    "titanic.groupby(\"Sex\").Survived.value_counts()"
   ]
  },
  {
   "cell_type": "code",
   "execution_count": 8,
   "metadata": {},
   "outputs": [
    {
     "data": {
      "text/plain": [
       "<matplotlib.axes._subplots.AxesSubplot at 0x1be2c3c8188>"
      ]
     },
     "execution_count": 8,
     "metadata": {},
     "output_type": "execute_result"
    },
    {
     "data": {
      "image/png": "[encoded data removed]",
      "text/plain": [
       "<Figure size 432x288 with 1 Axes>"
      ]
     },
     "metadata": {
      "needs_background": "light"
     },
     "output_type": "display_data"
    }
   ],
   "source": [
    "titanic.groupby(['Sex']).Survived.mean().plot.bar()"
   ]
  },
  {
   "cell_type": "code",
   "execution_count": 9,
   "metadata": {},
   "outputs": [
    {
     "data": {
      "text/plain": [
       "<matplotlib.axes._subplots.AxesSubplot at 0x1be2c436448>"
      ]
     },
     "execution_count": 9,
     "metadata": {},
     "output_type": "execute_result"
    },
    {
     "data": {
      "image/png": "[encoded data removed]",
      "text/plain": [
       "<Figure size 432x288 with 1 Axes>"
      ]
     },
     "metadata": {
      "needs_background": "light"
     },
     "output_type": "display_data"
    }
   ],
   "source": [
    "sns.countplot('Survived', data = titanic, hue=\"Sex\")"
   ]
  },
  {
   "cell_type": "markdown",
   "metadata": {},
   "source": [
    "Despite being more in numbers, more males have died in the disaster.\n",
    "evident from the bar plot that only around 18-19% men survived while the survival rate among women are as high as 75-78%.\n",
    "\n",
    "This looks like a important feature for modelling."
   ]
  },
  {
   "cell_type": "code",
   "execution_count": null,
   "metadata": {},
   "outputs": [],
   "source": []
  },
  {
   "cell_type": "markdown",
   "metadata": {},
   "source": [
    "# Pclass -- Ordinal Feature"
   ]
  },
  {
   "cell_type": "code",
   "execution_count": 10,
   "metadata": {},
   "outputs": [
    {
     "data": {
      "text/plain": [
       "Pclass  Survived\n",
       "1       1           136\n",
       "        0            80\n",
       "2       0            97\n",
       "        1            87\n",
       "3       0           372\n",
       "        1           119\n",
       "Name: Survived, dtype: int64"
      ]
     },
     "execution_count": 10,
     "metadata": {},
     "output_type": "execute_result"
    }
   ],
   "source": [
    "titanic.groupby('Pclass').Survived.value_counts()"
   ]
  },
  {
   "cell_type": "code",
   "execution_count": 11,
   "metadata": {},
   "outputs": [
    {
     "data": {
      "text/plain": [
       "<matplotlib.axes._subplots.AxesSubplot at 0x1be2c4bb288>"
      ]
     },
     "execution_count": 11,
     "metadata": {},
     "output_type": "execute_result"
    },
    {
     "data": {
      "image/png": "[encoded data removed]",
      "text/plain": [
       "<Figure size 432x288 with 1 Axes>"
      ]
     },
     "metadata": {
      "needs_background": "light"
     },
     "output_type": "display_data"
    }
   ],
   "source": [
    "sns.countplot('Pclass', hue = 'Survived', data = titanic)"
   ]
  },
  {
   "cell_type": "code",
   "execution_count": 12,
   "metadata": {},
   "outputs": [
    {
     "data": {
      "text/html": [
       "<div>\n",
       "<style scoped>\n",
       "    .dataframe tbody tr th:only-of-type {\n",
       "        vertical-align: middle;\n",
       "    }\n",
       "\n",
       "    .dataframe tbody tr th {\n",
       "        vertical-align: top;\n",
       "    }\n",
       "\n",
       "    .dataframe thead th {\n",
       "        text-align: right;\n",
       "    }\n",
       "</style>\n",
       "<table border=\"1\" class=\"dataframe\">\n",
       "  <thead>\n",
       "    <tr style=\"text-align: right;\">\n",
       "      <th></th>\n",
       "      <th>Survived</th>\n",
       "      <th>0</th>\n",
       "      <th>1</th>\n",
       "      <th>All</th>\n",
       "    </tr>\n",
       "    <tr>\n",
       "      <th>Sex</th>\n",
       "      <th>Pclass</th>\n",
       "      <th></th>\n",
       "      <th></th>\n",
       "      <th></th>\n",
       "    </tr>\n",
       "  </thead>\n",
       "  <tbody>\n",
       "    <tr>\n",
       "      <th rowspan=\"3\" valign=\"top\">female</th>\n",
       "      <th>1</th>\n",
       "      <td>3</td>\n",
       "      <td>91</td>\n",
       "      <td>94</td>\n",
       "    </tr>\n",
       "    <tr>\n",
       "      <th>2</th>\n",
       "      <td>6</td>\n",
       "      <td>70</td>\n",
       "      <td>76</td>\n",
       "    </tr>\n",
       "    <tr>\n",
       "      <th>3</th>\n",
       "      <td>72</td>\n",
       "      <td>72</td>\n",
       "      <td>144</td>\n",
       "    </tr>\n",
       "    <tr>\n",
       "      <th rowspan=\"3\" valign=\"top\">male</th>\n",
       "      <th>1</th>\n",
       "      <td>77</td>\n",
       "      <td>45</td>\n",
       "      <td>122</td>\n",
       "    </tr>\n",
       "    <tr>\n",
       "      <th>2</th>\n",
       "      <td>91</td>\n",
       "      <td>17</td>\n",
       "      <td>108</td>\n",
       "    </tr>\n",
       "    <tr>\n",
       "      <th>3</th>\n",
       "      <td>300</td>\n",
       "      <td>47</td>\n",
       "      <td>347</td>\n",
       "    </tr>\n",
       "    <tr>\n",
       "      <th>All</th>\n",
       "      <th></th>\n",
       "      <td>549</td>\n",
       "      <td>342</td>\n",
       "      <td>891</td>\n",
       "    </tr>\n",
       "  </tbody>\n",
       "</table>\n",
       "</div>"
      ],
      "text/plain": [
       "Survived         0    1  All\n",
       "Sex    Pclass               \n",
       "female 1         3   91   94\n",
       "       2         6   70   76\n",
       "       3        72   72  144\n",
       "male   1        77   45  122\n",
       "       2        91   17  108\n",
       "       3       300   47  347\n",
       "All            549  342  891"
      ]
     },
     "execution_count": 12,
     "metadata": {},
     "output_type": "execute_result"
    }
   ],
   "source": [
    "pd.crosstab([titanic.Sex,titanic.Pclass],titanic.Survived,margins=True)"
   ]
  },
  {
   "cell_type": "markdown",
   "metadata": {},
   "source": [
    "The above crosstab shows that the women in the Pclass 1 or 2 had a very high chance of survival.\n",
    "looks like Pclass is also an important feature for modelling.\n"
   ]
  },
  {
   "cell_type": "markdown",
   "metadata": {},
   "source": [
    "# Age -- Continuous Features"
   ]
  },
  {
   "cell_type": "code",
   "execution_count": 13,
   "metadata": {},
   "outputs": [
    {
     "name": "stdout",
     "output_type": "stream",
     "text": [
      "Oldest passenger was of 80.0 years.\n",
      "Youngest passenger was of 0.42 years.\n",
      "Average age of passengers were 29.7 year\n"
     ]
    }
   ],
   "source": [
    "print(\"Oldest passenger was of {} years.\".format(titanic.Age.max()))\n",
    "print(\"Youngest passenger was of {} years.\".format(titanic.Age.min()))\n",
    "print(\"Average age of passengers were {} year\".format(round(titanic.Age.mean(),2)))"
   ]
  },
  {
   "cell_type": "code",
   "execution_count": 14,
   "metadata": {},
   "outputs": [
    {
     "data": {
      "text/plain": [
       "<matplotlib.axes._subplots.AxesSubplot at 0x1be2c2ef608>"
      ]
     },
     "execution_count": 14,
     "metadata": {},
     "output_type": "execute_result"
    },
    {
     "data": {
      "image/png": "[encoded data removed]",
      "text/plain": [
       "<Figure size 432x288 with 1 Axes>"
      ]
     },
     "metadata": {
      "needs_background": "light"
     },
     "output_type": "display_data"
    }
   ],
   "source": [
    "sns.violinplot(\"Pclass\",\"Age\", hue = 'Survived',data = titanic, split = True)"
   ]
  },
  {
   "cell_type": "markdown",
   "metadata": {},
   "source": [
    "Two things are evident from the violin plot.\n",
    "1. The no. of children increases with the Pclass and irrespective of Pclass the Survival rate of children below 10 years looks to be good.\n",
    "2. The average age of people decreases with increase in the Pclass."
   ]
  },
  {
   "cell_type": "code",
   "execution_count": 15,
   "metadata": {},
   "outputs": [
    {
     "data": {
      "text/plain": [
       "<matplotlib.axes._subplots.AxesSubplot at 0x1be2c5e92c8>"
      ]
     },
     "execution_count": 15,
     "metadata": {},
     "output_type": "execute_result"
    },
    {
     "data": {
      "image/png": "[encoded data removed]",
      "text/plain": [
       "<Figure size 432x288 with 1 Axes>"
      ]
     },
     "metadata": {
      "needs_background": "light"
     },
     "output_type": "display_data"
    }
   ],
   "source": [
    "sns.violinplot(\"Sex\", \"Age\", hue = \"Survived\",data = titanic, split = True)"
   ]
  },
  {
   "cell_type": "markdown",
   "metadata": {},
   "source": [
    "1. The survival rate of men decreases with increase in their Age.\n",
    "2. The age group of 20-50 has a high casuality and also high survival.\n"
   ]
  },
  {
   "cell_type": "markdown",
   "metadata": {},
   "source": [
    "As we had seen earlier, the Age feature has 177 null values. To replace these NaN values, we can assign them the mean age of the dataset.\n",
    "\n",
    "But the problem is, there were many people with many different ages. We just cant assign a 4 year kid with the mean age that is 29 years. Is there any way to find out what age-band does the passenger lie??\n",
    "\n",
    "we can check the Name feature. Looking upon the feature, we can see that the names have a salutation like Mr or Mrs. Thus we can assign the mean values of Mr and Mrs to the respective groups."
   ]
  },
  {
   "cell_type": "code",
   "execution_count": 16,
   "metadata": {},
   "outputs": [],
   "source": [
    "titanic[\"Initial\"] = 0\n",
    "for i in titanic:\n",
    "    titanic['Initial']=titanic.Name.str.extract('([A-Za-z]+)\\.')"
   ]
  },
  {
   "cell_type": "markdown",
   "metadata": {},
   "source": [
    "Okay so here we are using the Regex: [A-Za-z]+).. So what it does is, it looks for strings which lie between A-Z or a-z and followed by a .(dot). So we successfully extract the Initials from the Name."
   ]
  },
  {
   "cell_type": "code",
   "execution_count": 17,
   "metadata": {},
   "outputs": [
    {
     "data": {
      "text/html": [
       "<div>\n",
       "<style scoped>\n",
       "    .dataframe tbody tr th:only-of-type {\n",
       "        vertical-align: middle;\n",
       "    }\n",
       "\n",
       "    .dataframe tbody tr th {\n",
       "        vertical-align: top;\n",
       "    }\n",
       "\n",
       "    .dataframe thead th {\n",
       "        text-align: right;\n",
       "    }\n",
       "</style>\n",
       "<table border=\"1\" class=\"dataframe\">\n",
       "  <thead>\n",
       "    <tr style=\"text-align: right;\">\n",
       "      <th>Initial</th>\n",
       "      <th>Capt</th>\n",
       "      <th>Col</th>\n",
       "      <th>Countess</th>\n",
       "      <th>Don</th>\n",
       "      <th>Dr</th>\n",
       "      <th>Jonkheer</th>\n",
       "      <th>Lady</th>\n",
       "      <th>Major</th>\n",
       "      <th>Master</th>\n",
       "      <th>Miss</th>\n",
       "      <th>Mlle</th>\n",
       "      <th>Mme</th>\n",
       "      <th>Mr</th>\n",
       "      <th>Mrs</th>\n",
       "      <th>Ms</th>\n",
       "      <th>Rev</th>\n",
       "      <th>Sir</th>\n",
       "    </tr>\n",
       "    <tr>\n",
       "      <th>Sex</th>\n",
       "      <th></th>\n",
       "      <th></th>\n",
       "      <th></th>\n",
       "      <th></th>\n",
       "      <th></th>\n",
       "      <th></th>\n",
       "      <th></th>\n",
       "      <th></th>\n",
       "      <th></th>\n",
       "      <th></th>\n",
       "      <th></th>\n",
       "      <th></th>\n",
       "      <th></th>\n",
       "      <th></th>\n",
       "      <th></th>\n",
       "      <th></th>\n",
       "      <th></th>\n",
       "    </tr>\n",
       "  </thead>\n",
       "  <tbody>\n",
       "    <tr>\n",
       "      <th>female</th>\n",
       "      <td>0</td>\n",
       "      <td>0</td>\n",
       "      <td>1</td>\n",
       "      <td>0</td>\n",
       "      <td>1</td>\n",
       "      <td>0</td>\n",
       "      <td>1</td>\n",
       "      <td>0</td>\n",
       "      <td>0</td>\n",
       "      <td>182</td>\n",
       "      <td>2</td>\n",
       "      <td>1</td>\n",
       "      <td>0</td>\n",
       "      <td>125</td>\n",
       "      <td>1</td>\n",
       "      <td>0</td>\n",
       "      <td>0</td>\n",
       "    </tr>\n",
       "    <tr>\n",
       "      <th>male</th>\n",
       "      <td>1</td>\n",
       "      <td>2</td>\n",
       "      <td>0</td>\n",
       "      <td>1</td>\n",
       "      <td>6</td>\n",
       "      <td>1</td>\n",
       "      <td>0</td>\n",
       "      <td>2</td>\n",
       "      <td>40</td>\n",
       "      <td>0</td>\n",
       "      <td>0</td>\n",
       "      <td>0</td>\n",
       "      <td>517</td>\n",
       "      <td>0</td>\n",
       "      <td>0</td>\n",
       "      <td>6</td>\n",
       "      <td>1</td>\n",
       "    </tr>\n",
       "  </tbody>\n",
       "</table>\n",
       "</div>"
      ],
      "text/plain": [
       "Initial  Capt  Col  Countess  Don  Dr  Jonkheer  Lady  Major  Master  Miss  \\\n",
       "Sex                                                                          \n",
       "female      0    0         1    0   1         0     1      0       0   182   \n",
       "male        1    2         0    1   6         1     0      2      40     0   \n",
       "\n",
       "Initial  Mlle  Mme   Mr  Mrs  Ms  Rev  Sir  \n",
       "Sex                                         \n",
       "female      2    1    0  125   1    0    0  \n",
       "male        0    0  517    0   0    6    1  "
      ]
     },
     "execution_count": 17,
     "metadata": {},
     "output_type": "execute_result"
    }
   ],
   "source": [
    "pd.crosstab(titanic.Sex, titanic.Initial)"
   ]
  },
  {
   "cell_type": "code",
   "execution_count": 18,
   "metadata": {},
   "outputs": [],
   "source": [
    "titanic['Initial'].replace(['Mlle','Mme','Ms','Dr','Major','Lady','Countess','Jonkheer','Col','Rev','Capt','Sir','Don'],['Miss','Miss','Miss','Mr','Mr','Mrs','Mrs','Other','Other','Other','Mr','Mr','Mr'],inplace=True)"
   ]
  },
  {
   "cell_type": "code",
   "execution_count": 19,
   "metadata": {},
   "outputs": [
    {
     "data": {
      "text/plain": [
       "Initial\n",
       "Master     4.574167\n",
       "Miss      21.860000\n",
       "Mr        32.739609\n",
       "Mrs       35.981818\n",
       "Other     45.888889\n",
       "Name: Age, dtype: float64"
      ]
     },
     "execution_count": 19,
     "metadata": {},
     "output_type": "execute_result"
    }
   ],
   "source": [
    "titanic.groupby('Initial').Age.mean()"
   ]
  },
  {
   "cell_type": "code",
   "execution_count": 20,
   "metadata": {},
   "outputs": [],
   "source": [
    "## Assigning the NaN Values with the Ceil values of the mean ages\n",
    "titanic.loc[(titanic.Age.isnull())&(titanic.Initial=='Mr'),'Age'] = 33\n",
    "titanic.loc[(titanic.Age.isnull())&(titanic.Initial=='Mrs'),'Age'] = 36\n",
    "titanic.loc[(titanic.Age.isnull())&(titanic.Initial=='Master'),'Age'] = 5\n",
    "titanic.loc[(titanic.Age.isnull())&(titanic.Initial=='Miss'),'Age'] = 22\n",
    "titanic.loc[(titanic.Age.isnull())&(titanic.Initial=='Other'),'Age'] = 46"
   ]
  },
  {
   "cell_type": "code",
   "execution_count": 21,
   "metadata": {},
   "outputs": [
    {
     "data": {
      "text/plain": [
       "False"
      ]
     },
     "execution_count": 21,
     "metadata": {},
     "output_type": "execute_result"
    }
   ],
   "source": [
    "titanic.Age.isnull().any()"
   ]
  },
  {
   "cell_type": "markdown",
   "metadata": {},
   "source": [
    "# Embarked -- Categorical Variable"
   ]
  },
  {
   "cell_type": "code",
   "execution_count": 22,
   "metadata": {},
   "outputs": [
    {
     "data": {
      "text/plain": [
       "S    644\n",
       "C    168\n",
       "Q     77\n",
       "Name: Embarked, dtype: int64"
      ]
     },
     "execution_count": 22,
     "metadata": {},
     "output_type": "execute_result"
    }
   ],
   "source": [
    "titanic.Embarked.value_counts()"
   ]
  },
  {
   "cell_type": "code",
   "execution_count": 23,
   "metadata": {},
   "outputs": [
    {
     "data": {
      "text/plain": [
       "<matplotlib.axes._subplots.AxesSubplot at 0x1be2c6aaf08>"
      ]
     },
     "execution_count": 23,
     "metadata": {},
     "output_type": "execute_result"
    },
    {
     "data": {
      "image/png": "[encoded data removed]",
      "text/plain": [
       "<Figure size 432x288 with 1 Axes>"
      ]
     },
     "metadata": {
      "needs_background": "light"
     },
     "output_type": "display_data"
    }
   ],
   "source": [
    "sns.countplot(\"Embarked\", hue = 'Survived', data = titanic)"
   ]
  },
  {
   "cell_type": "code",
   "execution_count": 24,
   "metadata": {},
   "outputs": [
    {
     "data": {
      "text/plain": [
       "Embarked  Survived  Sex   \n",
       "C         0         male       66\n",
       "                    female      9\n",
       "          1         female     64\n",
       "                    male       29\n",
       "Q         0         male       38\n",
       "                    female      9\n",
       "          1         female     27\n",
       "                    male        3\n",
       "S         0         male      364\n",
       "                    female     63\n",
       "          1         female    140\n",
       "                    male       77\n",
       "Name: Sex, dtype: int64"
      ]
     },
     "execution_count": 24,
     "metadata": {},
     "output_type": "execute_result"
    }
   ],
   "source": [
    "titanic.groupby(['Embarked','Survived']).Sex.value_counts()"
   ]
  },
  {
   "cell_type": "code",
   "execution_count": 25,
   "metadata": {},
   "outputs": [
    {
     "data": {
      "text/plain": [
       "Embarked  Pclass\n",
       "C         1          85\n",
       "          3          66\n",
       "          2          17\n",
       "Q         3          72\n",
       "          2           3\n",
       "          1           2\n",
       "S         3         353\n",
       "          2         164\n",
       "          1         127\n",
       "Name: Pclass, dtype: int64"
      ]
     },
     "execution_count": 25,
     "metadata": {},
     "output_type": "execute_result"
    }
   ],
   "source": [
    "titanic.groupby(\"Embarked\").Pclass.value_counts()"
   ]
  },
  {
   "cell_type": "markdown",
   "metadata": {},
   "source": [
    "From above we have come to a understanding that..\n",
    "1. Female embarked from C have a very high survival rate.\n",
    "2. Males in general have a very poor survival rate.\n",
    "3. maximum passengers embarked from S and Q are from Pclass = 3."
   ]
  },
  {
   "cell_type": "markdown",
   "metadata": {},
   "source": [
    "# SibSp -- Discrete Variable"
   ]
  },
  {
   "cell_type": "markdown",
   "metadata": {},
   "source": [
    "This feature represents whether a person is alone or with his family members.\n",
    "siblings or spouse"
   ]
  },
  {
   "cell_type": "code",
   "execution_count": 26,
   "metadata": {},
   "outputs": [
    {
     "data": {
      "text/plain": [
       "<matplotlib.axes._subplots.AxesSubplot at 0x1be2c717888>"
      ]
     },
     "execution_count": 26,
     "metadata": {},
     "output_type": "execute_result"
    },
    {
     "data": {
      "image/png": "[encoded data removed]",
      "text/plain": [
       "<Figure size 432x288 with 1 Axes>"
      ]
     },
     "metadata": {
      "needs_background": "light"
     },
     "output_type": "display_data"
    }
   ],
   "source": [
    "sns.countplot('SibSp', hue = \"Survived\", data = titanic)"
   ]
  },
  {
   "cell_type": "code",
   "execution_count": 27,
   "metadata": {},
   "outputs": [
    {
     "data": {
      "text/plain": [
       "<matplotlib.axes._subplots.AxesSubplot at 0x1be2c78db88>"
      ]
     },
     "execution_count": 27,
     "metadata": {},
     "output_type": "execute_result"
    },
    {
     "data": {
      "image/png": "[encoded data removed]",
      "text/plain": [
       "<Figure size 432x288 with 1 Axes>"
      ]
     },
     "metadata": {
      "needs_background": "light"
     },
     "output_type": "display_data"
    }
   ],
   "source": [
    "sns.barplot('SibSp', 'Survived', data = titanic)"
   ]
  },
  {
   "cell_type": "code",
   "execution_count": 28,
   "metadata": {},
   "outputs": [
    {
     "data": {
      "text/html": [
       "<div>\n",
       "<style scoped>\n",
       "    .dataframe tbody tr th:only-of-type {\n",
       "        vertical-align: middle;\n",
       "    }\n",
       "\n",
       "    .dataframe tbody tr th {\n",
       "        vertical-align: top;\n",
       "    }\n",
       "\n",
       "    .dataframe thead th {\n",
       "        text-align: right;\n",
       "    }\n",
       "</style>\n",
       "<table border=\"1\" class=\"dataframe\">\n",
       "  <thead>\n",
       "    <tr style=\"text-align: right;\">\n",
       "      <th></th>\n",
       "      <th>Pclass</th>\n",
       "      <th>1</th>\n",
       "      <th>2</th>\n",
       "      <th>3</th>\n",
       "    </tr>\n",
       "    <tr>\n",
       "      <th>SibSp</th>\n",
       "      <th>Survived</th>\n",
       "      <th></th>\n",
       "      <th></th>\n",
       "      <th></th>\n",
       "    </tr>\n",
       "  </thead>\n",
       "  <tbody>\n",
       "    <tr>\n",
       "      <th rowspan=\"2\" valign=\"top\">0</th>\n",
       "      <th>0</th>\n",
       "      <td>60</td>\n",
       "      <td>70</td>\n",
       "      <td>268</td>\n",
       "    </tr>\n",
       "    <tr>\n",
       "      <th>1</th>\n",
       "      <td>77</td>\n",
       "      <td>50</td>\n",
       "      <td>83</td>\n",
       "    </tr>\n",
       "    <tr>\n",
       "      <th rowspan=\"2\" valign=\"top\">1</th>\n",
       "      <th>0</th>\n",
       "      <td>18</td>\n",
       "      <td>23</td>\n",
       "      <td>56</td>\n",
       "    </tr>\n",
       "    <tr>\n",
       "      <th>1</th>\n",
       "      <td>53</td>\n",
       "      <td>32</td>\n",
       "      <td>27</td>\n",
       "    </tr>\n",
       "    <tr>\n",
       "      <th rowspan=\"2\" valign=\"top\">2</th>\n",
       "      <th>0</th>\n",
       "      <td>1</td>\n",
       "      <td>4</td>\n",
       "      <td>10</td>\n",
       "    </tr>\n",
       "    <tr>\n",
       "      <th>1</th>\n",
       "      <td>4</td>\n",
       "      <td>4</td>\n",
       "      <td>5</td>\n",
       "    </tr>\n",
       "    <tr>\n",
       "      <th rowspan=\"2\" valign=\"top\">3</th>\n",
       "      <th>0</th>\n",
       "      <td>1</td>\n",
       "      <td>0</td>\n",
       "      <td>11</td>\n",
       "    </tr>\n",
       "    <tr>\n",
       "      <th>1</th>\n",
       "      <td>2</td>\n",
       "      <td>1</td>\n",
       "      <td>1</td>\n",
       "    </tr>\n",
       "    <tr>\n",
       "      <th rowspan=\"2\" valign=\"top\">4</th>\n",
       "      <th>0</th>\n",
       "      <td>0</td>\n",
       "      <td>0</td>\n",
       "      <td>15</td>\n",
       "    </tr>\n",
       "    <tr>\n",
       "      <th>1</th>\n",
       "      <td>0</td>\n",
       "      <td>0</td>\n",
       "      <td>3</td>\n",
       "    </tr>\n",
       "    <tr>\n",
       "      <th>5</th>\n",
       "      <th>0</th>\n",
       "      <td>0</td>\n",
       "      <td>0</td>\n",
       "      <td>5</td>\n",
       "    </tr>\n",
       "    <tr>\n",
       "      <th>8</th>\n",
       "      <th>0</th>\n",
       "      <td>0</td>\n",
       "      <td>0</td>\n",
       "      <td>7</td>\n",
       "    </tr>\n",
       "  </tbody>\n",
       "</table>\n",
       "</div>"
      ],
      "text/plain": [
       "Pclass           1   2    3\n",
       "SibSp Survived             \n",
       "0     0         60  70  268\n",
       "      1         77  50   83\n",
       "1     0         18  23   56\n",
       "      1         53  32   27\n",
       "2     0          1   4   10\n",
       "      1          4   4    5\n",
       "3     0          1   0   11\n",
       "      1          2   1    1\n",
       "4     0          0   0   15\n",
       "      1          0   0    3\n",
       "5     0          0   0    5\n",
       "8     0          0   0    7"
      ]
     },
     "execution_count": 28,
     "metadata": {},
     "output_type": "execute_result"
    }
   ],
   "source": [
    "pd.crosstab(([titanic.SibSp, titanic.Survived]),titanic.Pclass )"
   ]
  },
  {
   "cell_type": "markdown",
   "metadata": {},
   "source": [
    "The following observations can be made..\n",
    "1. the barplot shows people have no siblings have 34% survival rate.\n",
    "2. if people are in a pair(having one sibling or spouse) generally couples have the maximum chance of survival i.e more than 50%.\n",
    "3. Person with SibSp>3 were all in Pclass3. It is imminent that all the large families in Pclass3(>3) died."
   ]
  },
  {
   "cell_type": "markdown",
   "metadata": {},
   "source": [
    "# Parch -- "
   ]
  },
  {
   "cell_type": "code",
   "execution_count": 29,
   "metadata": {},
   "outputs": [
    {
     "data": {
      "text/html": [
       "<style  type=\"text/css\" >\n",
       "    #T_a2158748_d342_11ea_a8c4_f0038ca24aa4row0_col0 {\n",
       "            background-color:  #812450;\n",
       "            color:  #f1f1f1;\n",
       "        }    #T_a2158748_d342_11ea_a8c4_f0038ca24aa4row0_col1 {\n",
       "            background-color:  #e2d9e2;\n",
       "            color:  #000000;\n",
       "        }    #T_a2158748_d342_11ea_a8c4_f0038ca24aa4row0_col2 {\n",
       "            background-color:  #e2d9e2;\n",
       "            color:  #000000;\n",
       "        }    #T_a2158748_d342_11ea_a8c4_f0038ca24aa4row1_col0 {\n",
       "            background-color:  #e2d9e2;\n",
       "            color:  #000000;\n",
       "        }    #T_a2158748_d342_11ea_a8c4_f0038ca24aa4row1_col1 {\n",
       "            background-color:  #481341;\n",
       "            color:  #f1f1f1;\n",
       "        }    #T_a2158748_d342_11ea_a8c4_f0038ca24aa4row1_col2 {\n",
       "            background-color:  #5f5fb3;\n",
       "            color:  #f1f1f1;\n",
       "        }    #T_a2158748_d342_11ea_a8c4_f0038ca24aa4row2_col0 {\n",
       "            background-color:  #a6bfca;\n",
       "            color:  #000000;\n",
       "        }    #T_a2158748_d342_11ea_a8c4_f0038ca24aa4row2_col1 {\n",
       "            background-color:  #acc2cc;\n",
       "            color:  #000000;\n",
       "        }    #T_a2158748_d342_11ea_a8c4_f0038ca24aa4row2_col2 {\n",
       "            background-color:  #9cb9c8;\n",
       "            color:  #000000;\n",
       "        }    #T_a2158748_d342_11ea_a8c4_f0038ca24aa4row3_col0 {\n",
       "            background-color:  #698abf;\n",
       "            color:  #000000;\n",
       "        }    #T_a2158748_d342_11ea_a8c4_f0038ca24aa4row3_col1 {\n",
       "            background-color:  #5f65b5;\n",
       "            color:  #000000;\n",
       "        }    #T_a2158748_d342_11ea_a8c4_f0038ca24aa4row3_col2 {\n",
       "            background-color:  #c2ced4;\n",
       "            color:  #000000;\n",
       "        }    #T_a2158748_d342_11ea_a8c4_f0038ca24aa4row4_col0 {\n",
       "            background-color:  #ccd2d8;\n",
       "            color:  #000000;\n",
       "        }    #T_a2158748_d342_11ea_a8c4_f0038ca24aa4row4_col1 {\n",
       "            background-color:  #d5d6dc;\n",
       "            color:  #000000;\n",
       "        }    #T_a2158748_d342_11ea_a8c4_f0038ca24aa4row4_col2 {\n",
       "            background-color:  #a3beca;\n",
       "            color:  #000000;\n",
       "        }    #T_a2158748_d342_11ea_a8c4_f0038ca24aa4row5_col0 {\n",
       "            background-color:  #7ea4c3;\n",
       "            color:  #000000;\n",
       "        }    #T_a2158748_d342_11ea_a8c4_f0038ca24aa4row5_col1 {\n",
       "            background-color:  #84a8c4;\n",
       "            color:  #000000;\n",
       "        }    #T_a2158748_d342_11ea_a8c4_f0038ca24aa4row5_col2 {\n",
       "            background-color:  #d5d6dc;\n",
       "            color:  #000000;\n",
       "        }    #T_a2158748_d342_11ea_a8c4_f0038ca24aa4row6_col0 {\n",
       "            background-color:  #e2d9e2;\n",
       "            color:  #000000;\n",
       "        }    #T_a2158748_d342_11ea_a8c4_f0038ca24aa4row6_col1 {\n",
       "            background-color:  #e2d9e2;\n",
       "            color:  #000000;\n",
       "        }    #T_a2158748_d342_11ea_a8c4_f0038ca24aa4row6_col2 {\n",
       "            background-color:  #e1d9e2;\n",
       "            color:  #000000;\n",
       "        }    #T_a2158748_d342_11ea_a8c4_f0038ca24aa4row7_col0 {\n",
       "            background-color:  #e2d9e2;\n",
       "            color:  #000000;\n",
       "        }    #T_a2158748_d342_11ea_a8c4_f0038ca24aa4row7_col1 {\n",
       "            background-color:  #dbd8df;\n",
       "            color:  #000000;\n",
       "        }    #T_a2158748_d342_11ea_a8c4_f0038ca24aa4row7_col2 {\n",
       "            background-color:  #e2d9e2;\n",
       "            color:  #000000;\n",
       "        }    #T_a2158748_d342_11ea_a8c4_f0038ca24aa4row8_col0 {\n",
       "            background-color:  #dfd9e1;\n",
       "            color:  #000000;\n",
       "        }    #T_a2158748_d342_11ea_a8c4_f0038ca24aa4row8_col1 {\n",
       "            background-color:  #e2d9e2;\n",
       "            color:  #000000;\n",
       "        }    #T_a2158748_d342_11ea_a8c4_f0038ca24aa4row8_col2 {\n",
       "            background-color:  #e0d9e2;\n",
       "            color:  #000000;\n",
       "        }    #T_a2158748_d342_11ea_a8c4_f0038ca24aa4row9_col0 {\n",
       "            background-color:  #e2d9e2;\n",
       "            color:  #000000;\n",
       "        }    #T_a2158748_d342_11ea_a8c4_f0038ca24aa4row9_col1 {\n",
       "            background-color:  #e2d9e2;\n",
       "            color:  #000000;\n",
       "        }    #T_a2158748_d342_11ea_a8c4_f0038ca24aa4row9_col2 {\n",
       "            background-color:  #dfd9e1;\n",
       "            color:  #000000;\n",
       "        }    #T_a2158748_d342_11ea_a8c4_f0038ca24aa4row10_col0 {\n",
       "            background-color:  #e2d9e2;\n",
       "            color:  #000000;\n",
       "        }    #T_a2158748_d342_11ea_a8c4_f0038ca24aa4row10_col1 {\n",
       "            background-color:  #e2d9e2;\n",
       "            color:  #000000;\n",
       "        }    #T_a2158748_d342_11ea_a8c4_f0038ca24aa4row10_col2 {\n",
       "            background-color:  #e2d9e2;\n",
       "            color:  #000000;\n",
       "        }    #T_a2158748_d342_11ea_a8c4_f0038ca24aa4row11_col0 {\n",
       "            background-color:  #e2d9e2;\n",
       "            color:  #000000;\n",
       "        }    #T_a2158748_d342_11ea_a8c4_f0038ca24aa4row11_col1 {\n",
       "            background-color:  #e2d9e2;\n",
       "            color:  #000000;\n",
       "        }    #T_a2158748_d342_11ea_a8c4_f0038ca24aa4row11_col2 {\n",
       "            background-color:  #e2d9e2;\n",
       "            color:  #000000;\n",
       "        }</style><table id=\"T_a2158748_d342_11ea_a8c4_f0038ca24aa4\" ><thead>    <tr>        <th class=\"blank\" ></th>        <th class=\"index_name level0\" >Pclass</th>        <th class=\"col_heading level0 col0\" >1</th>        <th class=\"col_heading level0 col1\" >2</th>        <th class=\"col_heading level0 col2\" >3</th>    </tr>    <tr>        <th class=\"index_name level0\" >Parch</th>        <th class=\"index_name level1\" >Survived</th>        <th class=\"blank\" ></th>        <th class=\"blank\" ></th>        <th class=\"blank\" ></th>    </tr></thead><tbody>\n",
       "                <tr>\n",
       "                        <th id=\"T_a2158748_d342_11ea_a8c4_f0038ca24aa4level0_row0\" class=\"row_heading level0 row0\" rowspan=2>0</th>\n",
       "                        <th id=\"T_a2158748_d342_11ea_a8c4_f0038ca24aa4level1_row0\" class=\"row_heading level1 row0\" >0</th>\n",
       "                        <td id=\"T_a2158748_d342_11ea_a8c4_f0038ca24aa4row0_col0\" class=\"data row0 col0\" >64</td>\n",
       "                        <td id=\"T_a2158748_d342_11ea_a8c4_f0038ca24aa4row0_col1\" class=\"data row0 col1\" >86</td>\n",
       "                        <td id=\"T_a2158748_d342_11ea_a8c4_f0038ca24aa4row0_col2\" class=\"data row0 col2\" >295</td>\n",
       "            </tr>\n",
       "            <tr>\n",
       "                                <th id=\"T_a2158748_d342_11ea_a8c4_f0038ca24aa4level1_row1\" class=\"row_heading level1 row1\" >1</th>\n",
       "                        <td id=\"T_a2158748_d342_11ea_a8c4_f0038ca24aa4row1_col0\" class=\"data row1 col0\" >99</td>\n",
       "                        <td id=\"T_a2158748_d342_11ea_a8c4_f0038ca24aa4row1_col1\" class=\"data row1 col1\" >48</td>\n",
       "                        <td id=\"T_a2158748_d342_11ea_a8c4_f0038ca24aa4row1_col2\" class=\"data row1 col2\" >86</td>\n",
       "            </tr>\n",
       "            <tr>\n",
       "                        <th id=\"T_a2158748_d342_11ea_a8c4_f0038ca24aa4level0_row2\" class=\"row_heading level0 row2\" rowspan=2>1</th>\n",
       "                        <th id=\"T_a2158748_d342_11ea_a8c4_f0038ca24aa4level1_row2\" class=\"row_heading level1 row2\" >0</th>\n",
       "                        <td id=\"T_a2158748_d342_11ea_a8c4_f0038ca24aa4row2_col0\" class=\"data row2 col0\" >10</td>\n",
       "                        <td id=\"T_a2158748_d342_11ea_a8c4_f0038ca24aa4row2_col1\" class=\"data row2 col1\" >8</td>\n",
       "                        <td id=\"T_a2158748_d342_11ea_a8c4_f0038ca24aa4row2_col2\" class=\"data row2 col2\" >35</td>\n",
       "            </tr>\n",
       "            <tr>\n",
       "                                <th id=\"T_a2158748_d342_11ea_a8c4_f0038ca24aa4level1_row3\" class=\"row_heading level1 row3\" >1</th>\n",
       "                        <td id=\"T_a2158748_d342_11ea_a8c4_f0038ca24aa4row3_col0\" class=\"data row3 col0\" >21</td>\n",
       "                        <td id=\"T_a2158748_d342_11ea_a8c4_f0038ca24aa4row3_col1\" class=\"data row3 col1\" >24</td>\n",
       "                        <td id=\"T_a2158748_d342_11ea_a8c4_f0038ca24aa4row3_col2\" class=\"data row3 col2\" >20</td>\n",
       "            </tr>\n",
       "            <tr>\n",
       "                        <th id=\"T_a2158748_d342_11ea_a8c4_f0038ca24aa4level0_row4\" class=\"row_heading level0 row4\" rowspan=2>2</th>\n",
       "                        <th id=\"T_a2158748_d342_11ea_a8c4_f0038ca24aa4level1_row4\" class=\"row_heading level1 row4\" >0</th>\n",
       "                        <td id=\"T_a2158748_d342_11ea_a8c4_f0038ca24aa4row4_col0\" class=\"data row4 col0\" >5</td>\n",
       "                        <td id=\"T_a2158748_d342_11ea_a8c4_f0038ca24aa4row4_col1\" class=\"data row4 col1\" >3</td>\n",
       "                        <td id=\"T_a2158748_d342_11ea_a8c4_f0038ca24aa4row4_col2\" class=\"data row4 col2\" >32</td>\n",
       "            </tr>\n",
       "            <tr>\n",
       "                                <th id=\"T_a2158748_d342_11ea_a8c4_f0038ca24aa4level1_row5\" class=\"row_heading level1 row5\" >1</th>\n",
       "                        <td id=\"T_a2158748_d342_11ea_a8c4_f0038ca24aa4row5_col0\" class=\"data row5 col0\" >16</td>\n",
       "                        <td id=\"T_a2158748_d342_11ea_a8c4_f0038ca24aa4row5_col1\" class=\"data row5 col1\" >13</td>\n",
       "                        <td id=\"T_a2158748_d342_11ea_a8c4_f0038ca24aa4row5_col2\" class=\"data row5 col2\" >11</td>\n",
       "            </tr>\n",
       "            <tr>\n",
       "                        <th id=\"T_a2158748_d342_11ea_a8c4_f0038ca24aa4level0_row6\" class=\"row_heading level0 row6\" rowspan=2>3</th>\n",
       "                        <th id=\"T_a2158748_d342_11ea_a8c4_f0038ca24aa4level1_row6\" class=\"row_heading level1 row6\" >0</th>\n",
       "                        <td id=\"T_a2158748_d342_11ea_a8c4_f0038ca24aa4row6_col0\" class=\"data row6 col0\" >0</td>\n",
       "                        <td id=\"T_a2158748_d342_11ea_a8c4_f0038ca24aa4row6_col1\" class=\"data row6 col1\" >0</td>\n",
       "                        <td id=\"T_a2158748_d342_11ea_a8c4_f0038ca24aa4row6_col2\" class=\"data row6 col2\" >2</td>\n",
       "            </tr>\n",
       "            <tr>\n",
       "                                <th id=\"T_a2158748_d342_11ea_a8c4_f0038ca24aa4level1_row7\" class=\"row_heading level1 row7\" >1</th>\n",
       "                        <td id=\"T_a2158748_d342_11ea_a8c4_f0038ca24aa4row7_col0\" class=\"data row7 col0\" >0</td>\n",
       "                        <td id=\"T_a2158748_d342_11ea_a8c4_f0038ca24aa4row7_col1\" class=\"data row7 col1\" >2</td>\n",
       "                        <td id=\"T_a2158748_d342_11ea_a8c4_f0038ca24aa4row7_col2\" class=\"data row7 col2\" >1</td>\n",
       "            </tr>\n",
       "            <tr>\n",
       "                        <th id=\"T_a2158748_d342_11ea_a8c4_f0038ca24aa4level0_row8\" class=\"row_heading level0 row8\" >4</th>\n",
       "                        <th id=\"T_a2158748_d342_11ea_a8c4_f0038ca24aa4level1_row8\" class=\"row_heading level1 row8\" >0</th>\n",
       "                        <td id=\"T_a2158748_d342_11ea_a8c4_f0038ca24aa4row8_col0\" class=\"data row8 col0\" >1</td>\n",
       "                        <td id=\"T_a2158748_d342_11ea_a8c4_f0038ca24aa4row8_col1\" class=\"data row8 col1\" >0</td>\n",
       "                        <td id=\"T_a2158748_d342_11ea_a8c4_f0038ca24aa4row8_col2\" class=\"data row8 col2\" >3</td>\n",
       "            </tr>\n",
       "            <tr>\n",
       "                        <th id=\"T_a2158748_d342_11ea_a8c4_f0038ca24aa4level0_row9\" class=\"row_heading level0 row9\" rowspan=2>5</th>\n",
       "                        <th id=\"T_a2158748_d342_11ea_a8c4_f0038ca24aa4level1_row9\" class=\"row_heading level1 row9\" >0</th>\n",
       "                        <td id=\"T_a2158748_d342_11ea_a8c4_f0038ca24aa4row9_col0\" class=\"data row9 col0\" >0</td>\n",
       "                        <td id=\"T_a2158748_d342_11ea_a8c4_f0038ca24aa4row9_col1\" class=\"data row9 col1\" >0</td>\n",
       "                        <td id=\"T_a2158748_d342_11ea_a8c4_f0038ca24aa4row9_col2\" class=\"data row9 col2\" >4</td>\n",
       "            </tr>\n",
       "            <tr>\n",
       "                                <th id=\"T_a2158748_d342_11ea_a8c4_f0038ca24aa4level1_row10\" class=\"row_heading level1 row10\" >1</th>\n",
       "                        <td id=\"T_a2158748_d342_11ea_a8c4_f0038ca24aa4row10_col0\" class=\"data row10 col0\" >0</td>\n",
       "                        <td id=\"T_a2158748_d342_11ea_a8c4_f0038ca24aa4row10_col1\" class=\"data row10 col1\" >0</td>\n",
       "                        <td id=\"T_a2158748_d342_11ea_a8c4_f0038ca24aa4row10_col2\" class=\"data row10 col2\" >1</td>\n",
       "            </tr>\n",
       "            <tr>\n",
       "                        <th id=\"T_a2158748_d342_11ea_a8c4_f0038ca24aa4level0_row11\" class=\"row_heading level0 row11\" >6</th>\n",
       "                        <th id=\"T_a2158748_d342_11ea_a8c4_f0038ca24aa4level1_row11\" class=\"row_heading level1 row11\" >0</th>\n",
       "                        <td id=\"T_a2158748_d342_11ea_a8c4_f0038ca24aa4row11_col0\" class=\"data row11 col0\" >0</td>\n",
       "                        <td id=\"T_a2158748_d342_11ea_a8c4_f0038ca24aa4row11_col1\" class=\"data row11 col1\" >0</td>\n",
       "                        <td id=\"T_a2158748_d342_11ea_a8c4_f0038ca24aa4row11_col2\" class=\"data row11 col2\" >1</td>\n",
       "            </tr>\n",
       "    </tbody></table>"
      ],
      "text/plain": [
       "<pandas.io.formats.style.Styler at 0x1be2c813448>"
      ]
     },
     "execution_count": 29,
     "metadata": {},
     "output_type": "execute_result"
    }
   ],
   "source": [
    "pd.crosstab([titanic.Parch, titanic.Survived], titanic.Pclass).style.background_gradient(cmap = 'twilight')"
   ]
  },
  {
   "cell_type": "code",
   "execution_count": 30,
   "metadata": {},
   "outputs": [
    {
     "name": "stderr",
     "output_type": "stream",
     "text": [
      "C:\\Users\\ASUS\\anaconda3\\lib\\site-packages\\seaborn\\categorical.py:3669: UserWarning: The `factorplot` function has been renamed to `catplot`. The original name will be removed in a future release. Please update your code. Note that the default `kind` in `factorplot` (`'point'`) has changed `'strip'` in `catplot`.\n",
      "  warnings.warn(msg)\n"
     ]
    },
    {
     "data": {
      "text/plain": [
       "<seaborn.axisgrid.FacetGrid at 0x1be2c804cc8>"
      ]
     },
     "execution_count": 30,
     "metadata": {},
     "output_type": "execute_result"
    },
    {
     "data": {
      "image/png": "[encoded data removed]",
      "text/plain": [
       "<Figure size 360x360 with 1 Axes>"
      ]
     },
     "metadata": {
      "needs_background": "light"
     },
     "output_type": "display_data"
    }
   ],
   "source": [
    "sns.factorplot('Parch', 'Survived', data = titanic)"
   ]
  },
  {
   "cell_type": "markdown",
   "metadata": {},
   "source": [
    "It is evident from the factor plot that Parch <= 3 have much better survival rate but being alone is also comparitively fatal.\n",
    "Therefore bigger families couldnt be saved and mostly they were from Pclass = 3."
   ]
  },
  {
   "cell_type": "markdown",
   "metadata": {},
   "source": [
    "# Fare -- Continous Feature"
   ]
  },
  {
   "cell_type": "code",
   "execution_count": 31,
   "metadata": {},
   "outputs": [
    {
     "name": "stdout",
     "output_type": "stream",
     "text": [
      "The maximum fare was 512.3292\n",
      "The minimum fare was 0.0\n",
      "The average fare was 32.2\n"
     ]
    }
   ],
   "source": [
    "print(\"The maximum fare was {}\".format(titanic.Fare.max()))\n",
    "print(\"The minimum fare was {}\".format(titanic.Fare.min()))\n",
    "print(\"The average fare was {}\".format(round(titanic.Fare.mean(),2)))"
   ]
  },
  {
   "cell_type": "code",
   "execution_count": 32,
   "metadata": {},
   "outputs": [],
   "source": [
    "#passenger class 1 fare\n",
    "pclass1_fare = titanic[titanic.Pclass == 1].Fare\n",
    "pclass2_fare = titanic[titanic.Pclass == 2].Fare\n",
    "pclass3_fare = titanic[titanic.Pclass == 3].Fare"
   ]
  },
  {
   "cell_type": "code",
   "execution_count": 33,
   "metadata": {},
   "outputs": [
    {
     "data": {
      "image/png": "[encoded data removed]",
      "text/plain": [
       "<Figure size 432x288 with 3 Axes>"
      ]
     },
     "metadata": {
      "needs_background": "light"
     },
     "output_type": "display_data"
    }
   ],
   "source": [
    "ax = plt.subplot(1,3,1)\n",
    "sns.distplot(pclass1_fare)\n",
    "plt.title(\"Pclass 1 Fare\")\n",
    "ax = plt.subplot(1,3,2)\n",
    "sns.distplot(pclass2_fare)\n",
    "plt.title(\"Pclass 2 Fare\")\n",
    "ax = plt.subplot(1,3,3)\n",
    "sns.distplot(pclass3_fare)\n",
    "plt.title(\"Pclass 3 Fare\")\n",
    "plt.subplots_adjust(wspace=0.35)"
   ]
  },
  {
   "cell_type": "raw",
   "metadata": {},
   "source": [
    "Observations for all features:\n",
    "    \n",
    "Sex: The chance of survival for women is high as compared to men.\n",
    "\n",
    "Pclass:There is a visible trend that being a 1st class passenger gives you better chances of survival. The survival rate for Pclass3 is very low. For women, the chance of survival from Pclass1 is almost 1 and is high too for those from Pclass2. Money Wins!!!.\n",
    "\n",
    "Age: Children less than 5-10 years do have a high chance of survival. Passengers between age group 15 to 35 died a lot.\n",
    "\n",
    "Embarked: This is a very interesting feature. The chances of survival at C looks to be better than even though the majority of Pclass1 passengers got up at S. Passengers at Q were all from Pclass3.\n",
    "\n",
    "Parch+SibSp: Having 1-2 siblings,spouse on board or 1-3 Parents shows a greater chance of probablity rather than being alone or having a large family travelling with you."
   ]
  },
  {
   "cell_type": "markdown",
   "metadata": {},
   "source": [
    "# Correlation betweeen features"
   ]
  },
  {
   "cell_type": "code",
   "execution_count": 34,
   "metadata": {},
   "outputs": [
    {
     "data": {
      "text/plain": [
       "<matplotlib.axes._subplots.AxesSubplot at 0x1be2cc84648>"
      ]
     },
     "execution_count": 34,
     "metadata": {},
     "output_type": "execute_result"
    },
    {
     "data": {
      "image/png": "[encoded data removed]",
      "text/plain": [
       "<Figure size 432x288 with 2 Axes>"
      ]
     },
     "metadata": {
      "needs_background": "light"
     },
     "output_type": "display_data"
    }
   ],
   "source": [
    "sns.heatmap(titanic.corr(), annot = True, cmap = 'coolwarm', linewidth = 0.2)"
   ]
  },
  {
   "cell_type": "markdown",
   "metadata": {},
   "source": [
    "Interpreting The Heatmap ---\n",
    "\n",
    "The first thing to note is that only the numeric features are compared as it is obvious that we cannot correlate between alphabets or strings. Before understanding the plot, let us see what exactly correlation is.\n",
    "\n",
    "POSITIVE CORRELATION: If an increase in feature A leads to increase in feature B, then they are positively correlated. A value 1 means perfect positive correlation.\n",
    "\n",
    "NEGATIVE CORRELATION: If an increase in feature A leads to decrease in feature B, then they are negatively correlated. A value -1 means perfect negative correlation.\n",
    "\n",
    "Now lets say that two features are highly or perfectly correlated, so the increase in one leads to increase in the other. This means that both the features are containing highly similar information and there is very little or no variance in information. This is known as MultiColinearity as both of them contains almost the same information.\n",
    "\n",
    "So do you think we should use both of them as one of them is redundant. While making or training models, we should try to eliminate redundant features as it reduces training time and many such advantages.\n",
    "\n",
    "Now from the above heatmap,we can see that the features are not much correlated. The highest correlation is between SibSp and Parch i.e 0.41. So we can carry on with all features."
   ]
  },
  {
   "cell_type": "markdown",
   "metadata": {},
   "source": [
    "# Feature Engineering and Data Cleaning"
   ]
  },
  {
   "cell_type": "markdown",
   "metadata": {},
   "source": [
    "Now what is Feature Engineering?\n",
    "\n",
    "Whenever we are given a dataset with features, it is not necessary that all the features will be important. There maybe be many redundant features which should be eliminated. Also we can get or add new features by observing or extracting information from other features.\n",
    "\n",
    "An example would be getting the Initals feature using the Name Feature. Lets see if we can get any new features and eliminate a few. Also we will tranform the existing relevant features to suitable form for Predictive Modeling."
   ]
  },
  {
   "cell_type": "raw",
   "metadata": {},
   "source": []
  },
  {
   "cell_type": "markdown",
   "metadata": {},
   "source": [
    "# Age_group"
   ]
  },
  {
   "cell_type": "markdown",
   "metadata": {},
   "source": [
    "Problem With Age Feature:\n",
    "As I have mentioned earlier that Age is a continous feature, there is a problem with Continous Variables in Machine Learning Models.\n",
    "\n",
    "Eg:If I say to group or arrange Sports Person by Sex, We can easily segregate them by Male and Female.\n",
    "\n",
    "Now if I say to group them by their Age, then how would you do it? If there are 30 Persons, there may be 30 age values. Now this is problematic.\n",
    "\n",
    "We need to convert these continous values into categorical values by either Binning or Normalisation. I will be using binning i.e group a range of ages into a single bin or assign them a single value.\n",
    "\n",
    "Okay so the maximum age of a passenger was 80. So lets divide the range from 0-80 into 5 bins. So 80/5=16. So bins of size 16."
   ]
  },
  {
   "cell_type": "code",
   "execution_count": 35,
   "metadata": {},
   "outputs": [],
   "source": [
    "titanic['Age_group'] = 0"
   ]
  },
  {
   "cell_type": "code",
   "execution_count": 36,
   "metadata": {},
   "outputs": [
    {
     "data": {
      "text/html": [
       "<div>\n",
       "<style scoped>\n",
       "    .dataframe tbody tr th:only-of-type {\n",
       "        vertical-align: middle;\n",
       "    }\n",
       "\n",
       "    .dataframe tbody tr th {\n",
       "        vertical-align: top;\n",
       "    }\n",
       "\n",
       "    .dataframe thead th {\n",
       "        text-align: right;\n",
       "    }\n",
       "</style>\n",
       "<table border=\"1\" class=\"dataframe\">\n",
       "  <thead>\n",
       "    <tr style=\"text-align: right;\">\n",
       "      <th></th>\n",
       "      <th>PassengerId</th>\n",
       "      <th>Survived</th>\n",
       "      <th>Pclass</th>\n",
       "      <th>Name</th>\n",
       "      <th>Sex</th>\n",
       "      <th>Age</th>\n",
       "      <th>SibSp</th>\n",
       "      <th>Parch</th>\n",
       "      <th>Ticket</th>\n",
       "      <th>Fare</th>\n",
       "      <th>Cabin</th>\n",
       "      <th>Embarked</th>\n",
       "      <th>Initial</th>\n",
       "      <th>Age_group</th>\n",
       "    </tr>\n",
       "  </thead>\n",
       "  <tbody>\n",
       "    <tr>\n",
       "      <th>0</th>\n",
       "      <td>1</td>\n",
       "      <td>0</td>\n",
       "      <td>3</td>\n",
       "      <td>Braund, Mr. Owen Harris</td>\n",
       "      <td>male</td>\n",
       "      <td>22.0</td>\n",
       "      <td>1</td>\n",
       "      <td>0</td>\n",
       "      <td>A/5 21171</td>\n",
       "      <td>7.2500</td>\n",
       "      <td>NaN</td>\n",
       "      <td>S</td>\n",
       "      <td>Mr</td>\n",
       "      <td>1</td>\n",
       "    </tr>\n",
       "    <tr>\n",
       "      <th>1</th>\n",
       "      <td>2</td>\n",
       "      <td>1</td>\n",
       "      <td>1</td>\n",
       "      <td>Cumings, Mrs. John Bradley (Florence Briggs Th...</td>\n",
       "      <td>female</td>\n",
       "      <td>38.0</td>\n",
       "      <td>1</td>\n",
       "      <td>0</td>\n",
       "      <td>PC 17599</td>\n",
       "      <td>71.2833</td>\n",
       "      <td>C85</td>\n",
       "      <td>C</td>\n",
       "      <td>Mrs</td>\n",
       "      <td>2</td>\n",
       "    </tr>\n",
       "    <tr>\n",
       "      <th>2</th>\n",
       "      <td>3</td>\n",
       "      <td>1</td>\n",
       "      <td>3</td>\n",
       "      <td>Heikkinen, Miss. Laina</td>\n",
       "      <td>female</td>\n",
       "      <td>26.0</td>\n",
       "      <td>0</td>\n",
       "      <td>0</td>\n",
       "      <td>STON/O2. 3101282</td>\n",
       "      <td>7.9250</td>\n",
       "      <td>NaN</td>\n",
       "      <td>S</td>\n",
       "      <td>Miss</td>\n",
       "      <td>1</td>\n",
       "    </tr>\n",
       "    <tr>\n",
       "      <th>3</th>\n",
       "      <td>4</td>\n",
       "      <td>1</td>\n",
       "      <td>1</td>\n",
       "      <td>Futrelle, Mrs. Jacques Heath (Lily May Peel)</td>\n",
       "      <td>female</td>\n",
       "      <td>35.0</td>\n",
       "      <td>1</td>\n",
       "      <td>0</td>\n",
       "      <td>113803</td>\n",
       "      <td>53.1000</td>\n",
       "      <td>C123</td>\n",
       "      <td>S</td>\n",
       "      <td>Mrs</td>\n",
       "      <td>2</td>\n",
       "    </tr>\n",
       "    <tr>\n",
       "      <th>4</th>\n",
       "      <td>5</td>\n",
       "      <td>0</td>\n",
       "      <td>3</td>\n",
       "      <td>Allen, Mr. William Henry</td>\n",
       "      <td>male</td>\n",
       "      <td>35.0</td>\n",
       "      <td>0</td>\n",
       "      <td>0</td>\n",
       "      <td>373450</td>\n",
       "      <td>8.0500</td>\n",
       "      <td>NaN</td>\n",
       "      <td>S</td>\n",
       "      <td>Mr</td>\n",
       "      <td>2</td>\n",
       "    </tr>\n",
       "  </tbody>\n",
       "</table>\n",
       "</div>"
      ],
      "text/plain": [
       "   PassengerId  Survived  Pclass  \\\n",
       "0            1         0       3   \n",
       "1            2         1       1   \n",
       "2            3         1       3   \n",
       "3            4         1       1   \n",
       "4            5         0       3   \n",
       "\n",
       "                                                Name     Sex   Age  SibSp  \\\n",
       "0                            Braund, Mr. Owen Harris    male  22.0      1   \n",
       "1  Cumings, Mrs. John Bradley (Florence Briggs Th...  female  38.0      1   \n",
       "2                             Heikkinen, Miss. Laina  female  26.0      0   \n",
       "3       Futrelle, Mrs. Jacques Heath (Lily May Peel)  female  35.0      1   \n",
       "4                           Allen, Mr. William Henry    male  35.0      0   \n",
       "\n",
       "   Parch            Ticket     Fare Cabin Embarked Initial  Age_group  \n",
       "0      0         A/5 21171   7.2500   NaN        S      Mr          1  \n",
       "1      0          PC 17599  71.2833   C85        C     Mrs          2  \n",
       "2      0  STON/O2. 3101282   7.9250   NaN        S    Miss          1  \n",
       "3      0            113803  53.1000  C123        S     Mrs          2  \n",
       "4      0            373450   8.0500   NaN        S      Mr          2  "
      ]
     },
     "execution_count": 36,
     "metadata": {},
     "output_type": "execute_result"
    }
   ],
   "source": [
    "titanic.loc[titanic['Age'] <= 16, 'Age_group'] = 0\n",
    "titanic.loc[(titanic['Age'] > 16) & (titanic['Age'] <= 32), 'Age_group'] = 1\n",
    "titanic.loc[(titanic['Age'] > 32) & (titanic['Age'] <= 48), 'Age_group'] = 2\n",
    "titanic.loc[(titanic['Age'] > 48) & (titanic['Age'] <= 64), 'Age_group'] = 3\n",
    "titanic.loc[(titanic['Age'] > 64), 'Age_group'] = 4\n",
    "titanic.head(5)"
   ]
  },
  {
   "cell_type": "code",
   "execution_count": 37,
   "metadata": {},
   "outputs": [
    {
     "data": {
      "text/html": [
       "<style  type=\"text/css\" >\n",
       "    #T_a325819c_d342_11ea_b1fb_f0038ca24aa4row0_col0 {\n",
       "            background-color:  #7ba1c2;\n",
       "            color:  #000000;\n",
       "        }    #T_a325819c_d342_11ea_b1fb_f0038ca24aa4row0_col1 {\n",
       "            background-color:  #592a8f;\n",
       "            color:  #f1f1f1;\n",
       "        }    #T_a325819c_d342_11ea_b1fb_f0038ca24aa4row1_col0 {\n",
       "            background-color:  #e2d9e2;\n",
       "            color:  #000000;\n",
       "        }    #T_a325819c_d342_11ea_b1fb_f0038ca24aa4row1_col1 {\n",
       "            background-color:  #e2d9e2;\n",
       "            color:  #000000;\n",
       "        }    #T_a325819c_d342_11ea_b1fb_f0038ca24aa4row2_col0 {\n",
       "            background-color:  #dbccc8;\n",
       "            color:  #000000;\n",
       "        }    #T_a325819c_d342_11ea_b1fb_f0038ca24aa4row2_col1 {\n",
       "            background-color:  #9a3750;\n",
       "            color:  #f1f1f1;\n",
       "        }    #T_a325819c_d342_11ea_b1fb_f0038ca24aa4row3_col0 {\n",
       "            background-color:  #91b2c6;\n",
       "            color:  #000000;\n",
       "        }    #T_a325819c_d342_11ea_b1fb_f0038ca24aa4row3_col1 {\n",
       "            background-color:  #6f93c0;\n",
       "            color:  #000000;\n",
       "        }    #T_a325819c_d342_11ea_b1fb_f0038ca24aa4row4_col0 {\n",
       "            background-color:  #e2d9e2;\n",
       "            color:  #000000;\n",
       "        }    #T_a325819c_d342_11ea_b1fb_f0038ca24aa4row4_col1 {\n",
       "            background-color:  #e2d9e2;\n",
       "            color:  #000000;\n",
       "        }</style><table id=\"T_a325819c_d342_11ea_b1fb_f0038ca24aa4\" ><thead>    <tr>        <th class=\"index_name level0\" >Survived</th>        <th class=\"col_heading level0 col0\" >0</th>        <th class=\"col_heading level0 col1\" >1</th>    </tr>    <tr>        <th class=\"index_name level0\" >Age_group</th>        <th class=\"blank\" ></th>        <th class=\"blank\" ></th>    </tr></thead><tbody>\n",
       "                <tr>\n",
       "                        <th id=\"T_a325819c_d342_11ea_b1fb_f0038ca24aa4level0_row0\" class=\"row_heading level0 row0\" >0</th>\n",
       "                        <td id=\"T_a325819c_d342_11ea_b1fb_f0038ca24aa4row0_col0\" class=\"data row0 col0\" >47</td>\n",
       "                        <td id=\"T_a325819c_d342_11ea_b1fb_f0038ca24aa4row0_col1\" class=\"data row0 col1\" >57</td>\n",
       "            </tr>\n",
       "            <tr>\n",
       "                        <th id=\"T_a325819c_d342_11ea_b1fb_f0038ca24aa4level0_row1\" class=\"row_heading level0 row1\" >1</th>\n",
       "                        <td id=\"T_a325819c_d342_11ea_b1fb_f0038ca24aa4row1_col0\" class=\"data row1 col0\" >232</td>\n",
       "                        <td id=\"T_a325819c_d342_11ea_b1fb_f0038ca24aa4row1_col1\" class=\"data row1 col1\" >150</td>\n",
       "            </tr>\n",
       "            <tr>\n",
       "                        <th id=\"T_a325819c_d342_11ea_b1fb_f0038ca24aa4level0_row2\" class=\"row_heading level0 row2\" >2</th>\n",
       "                        <td id=\"T_a325819c_d342_11ea_b1fb_f0038ca24aa4row2_col0\" class=\"data row2 col0\" >221</td>\n",
       "                        <td id=\"T_a325819c_d342_11ea_b1fb_f0038ca24aa4row2_col1\" class=\"data row2 col1\" >104</td>\n",
       "            </tr>\n",
       "            <tr>\n",
       "                        <th id=\"T_a325819c_d342_11ea_b1fb_f0038ca24aa4level0_row3\" class=\"row_heading level0 row3\" >3</th>\n",
       "                        <td id=\"T_a325819c_d342_11ea_b1fb_f0038ca24aa4row3_col0\" class=\"data row3 col0\" >39</td>\n",
       "                        <td id=\"T_a325819c_d342_11ea_b1fb_f0038ca24aa4row3_col1\" class=\"data row3 col1\" >30</td>\n",
       "            </tr>\n",
       "            <tr>\n",
       "                        <th id=\"T_a325819c_d342_11ea_b1fb_f0038ca24aa4level0_row4\" class=\"row_heading level0 row4\" >4</th>\n",
       "                        <td id=\"T_a325819c_d342_11ea_b1fb_f0038ca24aa4row4_col0\" class=\"data row4 col0\" >10</td>\n",
       "                        <td id=\"T_a325819c_d342_11ea_b1fb_f0038ca24aa4row4_col1\" class=\"data row4 col1\" >1</td>\n",
       "            </tr>\n",
       "    </tbody></table>"
      ],
      "text/plain": [
       "<pandas.io.formats.style.Styler at 0x1be2cba22c8>"
      ]
     },
     "execution_count": 37,
     "metadata": {},
     "output_type": "execute_result"
    }
   ],
   "source": [
    "pd.crosstab(titanic.Age_group, titanic.Survived).style.background_gradient(cmap = 'twilight')"
   ]
  },
  {
   "cell_type": "code",
   "execution_count": 38,
   "metadata": {},
   "outputs": [
    {
     "name": "stderr",
     "output_type": "stream",
     "text": [
      "C:\\Users\\ASUS\\anaconda3\\lib\\site-packages\\seaborn\\categorical.py:3669: UserWarning: The `factorplot` function has been renamed to `catplot`. The original name will be removed in a future release. Please update your code. Note that the default `kind` in `factorplot` (`'point'`) has changed `'strip'` in `catplot`.\n",
      "  warnings.warn(msg)\n"
     ]
    },
    {
     "data": {
      "text/plain": [
       "<seaborn.axisgrid.FacetGrid at 0x1be2cd0ed08>"
      ]
     },
     "execution_count": 38,
     "metadata": {},
     "output_type": "execute_result"
    },
    {
     "data": {
      "image/png": "[encoded data removed]",
      "text/plain": [
       "<Figure size 1080x360 with 3 Axes>"
      ]
     },
     "metadata": {
      "needs_background": "light"
     },
     "output_type": "display_data"
    }
   ],
   "source": [
    "sns.factorplot('Age_group','Survived',data=titanic,col='Pclass')"
   ]
  },
  {
   "cell_type": "markdown",
   "metadata": {},
   "source": [
    "Irrespective of the Pclass, the survival rate decreases with increase in age."
   ]
  },
  {
   "cell_type": "markdown",
   "metadata": {},
   "source": [
    "# Family_Size and Alone"
   ]
  },
  {
   "cell_type": "markdown",
   "metadata": {},
   "source": [
    "At this point, we can create a new feature called \"Family_size\" and \"Alone\" and analyse it. This feature is the summation of Parch and SibSp. It gives us a combined data so that we can check if survival rate have anything to do with family size of the passengers. Alone will denote whether a passenger is alone or not."
   ]
  },
  {
   "cell_type": "code",
   "execution_count": 39,
   "metadata": {},
   "outputs": [],
   "source": [
    "titanic['Family_Size'] = titanic.Parch + titanic.SibSp\n",
    "titanic['Alone'] = 0\n",
    "titanic.loc[titanic.Family_Size == 0, 'Alone'] = 1"
   ]
  },
  {
   "cell_type": "code",
   "execution_count": 40,
   "metadata": {},
   "outputs": [
    {
     "name": "stderr",
     "output_type": "stream",
     "text": [
      "C:\\Users\\ASUS\\anaconda3\\lib\\site-packages\\seaborn\\categorical.py:3669: UserWarning: The `factorplot` function has been renamed to `catplot`. The original name will be removed in a future release. Please update your code. Note that the default `kind` in `factorplot` (`'point'`) has changed `'strip'` in `catplot`.\n",
      "  warnings.warn(msg)\n"
     ]
    },
    {
     "data": {
      "text/plain": [
       "<seaborn.axisgrid.FacetGrid at 0x1be2cdb6d88>"
      ]
     },
     "execution_count": 40,
     "metadata": {},
     "output_type": "execute_result"
    },
    {
     "data": {
      "image/png": "[encoded data removed]",
      "text/plain": [
       "<Figure size 360x360 with 1 Axes>"
      ]
     },
     "metadata": {
      "needs_background": "light"
     },
     "output_type": "display_data"
    }
   ],
   "source": [
    "sns.factorplot(y = 'Survived', x = 'Family_Size', data = titanic)"
   ]
  },
  {
   "cell_type": "markdown",
   "metadata": {},
   "source": [
    "Family_Size=0 means that the passeneger is alone. Clearly, if you are alone or family_size=0,then chances for survival is very low. For family size > 4,the chances decrease too. This also looks to be an important feature for the model. Lets examine this further."
   ]
  },
  {
   "cell_type": "code",
   "execution_count": 41,
   "metadata": {},
   "outputs": [
    {
     "name": "stderr",
     "output_type": "stream",
     "text": [
      "C:\\Users\\ASUS\\anaconda3\\lib\\site-packages\\seaborn\\categorical.py:3669: UserWarning: The `factorplot` function has been renamed to `catplot`. The original name will be removed in a future release. Please update your code. Note that the default `kind` in `factorplot` (`'point'`) has changed `'strip'` in `catplot`.\n",
      "  warnings.warn(msg)\n"
     ]
    },
    {
     "data": {
      "text/plain": [
       "<seaborn.axisgrid.FacetGrid at 0x1be2d024108>"
      ]
     },
     "execution_count": 41,
     "metadata": {},
     "output_type": "execute_result"
    },
    {
     "data": {
      "image/png": "[encoded data removed]",
      "text/plain": [
       "<Figure size 1150.5x360 with 3 Axes>"
      ]
     },
     "metadata": {
      "needs_background": "light"
     },
     "output_type": "display_data"
    }
   ],
   "source": [
    "sns.factorplot(x='Alone', y='Survived', hue='Sex', data= titanic, col='Pclass')"
   ]
  },
  {
   "cell_type": "markdown",
   "metadata": {},
   "source": [
    "It is visible that being alone is harmful irrespective of Sex or Pclass except for Pclass3 where the chances of females who are alone is high than those with family."
   ]
  },
  {
   "cell_type": "markdown",
   "metadata": {},
   "source": [
    "# Fare_Range"
   ]
  },
  {
   "cell_type": "markdown",
   "metadata": {},
   "source": [
    "Since fare is also a continous feature, we need to convert it into ordinal value. For this we will use pandas.qcut.\n",
    "\n",
    "So what qcut does is it splits or arranges the values according the number of bins we have passed. So if we pass for 5 bins, it will arrange the values equally spaced into 5 seperate bins or value ranges."
   ]
  },
  {
   "cell_type": "code",
   "execution_count": 42,
   "metadata": {},
   "outputs": [],
   "source": [
    "titanic['Fare_Range'] = pd.qcut(titanic.Fare, 4)"
   ]
  },
  {
   "cell_type": "code",
   "execution_count": 43,
   "metadata": {},
   "outputs": [
    {
     "data": {
      "text/html": [
       "<style  type=\"text/css\" >\n",
       "    #T_a4d50c94_d342_11ea_afd7_f0038ca24aa4row0_col0 {\n",
       "            background-color:  #e2d9e2;\n",
       "            color:  #000000;\n",
       "        }    #T_a4d50c94_d342_11ea_afd7_f0038ca24aa4row1_col0 {\n",
       "            background-color:  #6066b6;\n",
       "            color:  #000000;\n",
       "        }    #T_a4d50c94_d342_11ea_afd7_f0038ca24aa4row2_col0 {\n",
       "            background-color:  #902e50;\n",
       "            color:  #f1f1f1;\n",
       "        }    #T_a4d50c94_d342_11ea_afd7_f0038ca24aa4row3_col0 {\n",
       "            background-color:  #e2d9e2;\n",
       "            color:  #000000;\n",
       "        }</style><table id=\"T_a4d50c94_d342_11ea_afd7_f0038ca24aa4\" ><thead>    <tr>        <th class=\"blank level0\" ></th>        <th class=\"col_heading level0 col0\" >Survived</th>    </tr>    <tr>        <th class=\"index_name level0\" >Fare_Range</th>        <th class=\"blank\" ></th>    </tr></thead><tbody>\n",
       "                <tr>\n",
       "                        <th id=\"T_a4d50c94_d342_11ea_afd7_f0038ca24aa4level0_row0\" class=\"row_heading level0 row0\" >(-0.001, 7.91]</th>\n",
       "                        <td id=\"T_a4d50c94_d342_11ea_afd7_f0038ca24aa4row0_col0\" class=\"data row0 col0\" >0.197309</td>\n",
       "            </tr>\n",
       "            <tr>\n",
       "                        <th id=\"T_a4d50c94_d342_11ea_afd7_f0038ca24aa4level0_row1\" class=\"row_heading level0 row1\" >(7.91, 14.454]</th>\n",
       "                        <td id=\"T_a4d50c94_d342_11ea_afd7_f0038ca24aa4row1_col0\" class=\"data row1 col0\" >0.303571</td>\n",
       "            </tr>\n",
       "            <tr>\n",
       "                        <th id=\"T_a4d50c94_d342_11ea_afd7_f0038ca24aa4level0_row2\" class=\"row_heading level0 row2\" >(14.454, 31.0]</th>\n",
       "                        <td id=\"T_a4d50c94_d342_11ea_afd7_f0038ca24aa4row2_col0\" class=\"data row2 col0\" >0.454955</td>\n",
       "            </tr>\n",
       "            <tr>\n",
       "                        <th id=\"T_a4d50c94_d342_11ea_afd7_f0038ca24aa4level0_row3\" class=\"row_heading level0 row3\" >(31.0, 512.329]</th>\n",
       "                        <td id=\"T_a4d50c94_d342_11ea_afd7_f0038ca24aa4row3_col0\" class=\"data row3 col0\" >0.581081</td>\n",
       "            </tr>\n",
       "    </tbody></table>"
      ],
      "text/plain": [
       "<pandas.io.formats.style.Styler at 0x1be2e500e48>"
      ]
     },
     "execution_count": 43,
     "metadata": {},
     "output_type": "execute_result"
    }
   ],
   "source": [
    "titanic.groupby(titanic.Fare_Range).Survived.mean().to_frame().style.background_gradient(cmap = 'twilight')"
   ]
  },
  {
   "cell_type": "markdown",
   "metadata": {},
   "source": [
    "As discussed above, we can clearly see that as the fare_range increases, the chances of survival increases.\n",
    "\n",
    "Now we cannot pass the Fare_Range values as it is. We should convert it into singleton values same as we did in Age_Band"
   ]
  },
  {
   "cell_type": "code",
   "execution_count": 44,
   "metadata": {},
   "outputs": [],
   "source": [
    "titanic['Fare_cat'] = 0"
   ]
  },
  {
   "cell_type": "code",
   "execution_count": 45,
   "metadata": {},
   "outputs": [],
   "source": [
    "titanic.loc[titanic['Fare'] < 7.91, 'Fare_cat'] = 0\n",
    "titanic.loc[(titanic['Fare'] >= 7.91) & (titanic['Fare'] < 14.454), 'Fare_cat'] = 1\n",
    "titanic.loc[(titanic['Fare'] >= 14.454) & (titanic['Fare'] < 31.0), 'Fare_cat'] = 2\n",
    "titanic.loc[(titanic['Fare'] >= 31.0) & (titanic['Fare'] < 513), 'Fare_cat'] = 3\n"
   ]
  },
  {
   "cell_type": "code",
   "execution_count": 46,
   "metadata": {},
   "outputs": [
    {
     "name": "stderr",
     "output_type": "stream",
     "text": [
      "C:\\Users\\ASUS\\anaconda3\\lib\\site-packages\\seaborn\\categorical.py:3669: UserWarning: The `factorplot` function has been renamed to `catplot`. The original name will be removed in a future release. Please update your code. Note that the default `kind` in `factorplot` (`'point'`) has changed `'strip'` in `catplot`.\n",
      "  warnings.warn(msg)\n"
     ]
    },
    {
     "data": {
      "image/png": "[encoded data removed]",
      "text/plain": [
       "<Figure size 430.5x360 with 1 Axes>"
      ]
     },
     "metadata": {
      "needs_background": "light"
     },
     "output_type": "display_data"
    }
   ],
   "source": [
    "sns.factorplot('Fare_cat','Survived',data=titanic,hue='Sex')\n",
    "plt.show()"
   ]
  },
  {
   "cell_type": "markdown",
   "metadata": {},
   "source": [
    "Clearly, as the Fare_cat increases, the survival chances increases. This feature may become an important feature during modeling along with the Sex."
   ]
  },
  {
   "cell_type": "markdown",
   "metadata": {},
   "source": [
    "# Converting String Values into Numeric\n"
   ]
  },
  {
   "cell_type": "markdown",
   "metadata": {},
   "source": [
    "Since we cannot pass strings to a machine learning model, we need to convert features like Sex, Embarked, etc into numeric values.\n",
    "\n"
   ]
  },
  {
   "cell_type": "code",
   "execution_count": 47,
   "metadata": {},
   "outputs": [],
   "source": [
    "titanic['Sex'].replace(['male','female'],[0,1],inplace=True)\n",
    "titanic['Embarked'].replace(['S','C','Q'],[0,1,2],inplace=True)\n",
    "titanic['Initial'].replace(['Mr','Mrs','Miss','Master','Other'],[0,1,2,3,4],inplace=True)"
   ]
  },
  {
   "cell_type": "code",
   "execution_count": 48,
   "metadata": {},
   "outputs": [
    {
     "data": {
      "text/html": [
       "<div>\n",
       "<style scoped>\n",
       "    .dataframe tbody tr th:only-of-type {\n",
       "        vertical-align: middle;\n",
       "    }\n",
       "\n",
       "    .dataframe tbody tr th {\n",
       "        vertical-align: top;\n",
       "    }\n",
       "\n",
       "    .dataframe thead th {\n",
       "        text-align: right;\n",
       "    }\n",
       "</style>\n",
       "<table border=\"1\" class=\"dataframe\">\n",
       "  <thead>\n",
       "    <tr style=\"text-align: right;\">\n",
       "      <th></th>\n",
       "      <th>PassengerId</th>\n",
       "      <th>Survived</th>\n",
       "      <th>Pclass</th>\n",
       "      <th>Name</th>\n",
       "      <th>Sex</th>\n",
       "      <th>Age</th>\n",
       "      <th>SibSp</th>\n",
       "      <th>Parch</th>\n",
       "      <th>Ticket</th>\n",
       "      <th>Fare</th>\n",
       "      <th>Cabin</th>\n",
       "      <th>Embarked</th>\n",
       "      <th>Initial</th>\n",
       "      <th>Age_group</th>\n",
       "      <th>Family_Size</th>\n",
       "      <th>Alone</th>\n",
       "      <th>Fare_Range</th>\n",
       "      <th>Fare_cat</th>\n",
       "    </tr>\n",
       "  </thead>\n",
       "  <tbody>\n",
       "    <tr>\n",
       "      <th>0</th>\n",
       "      <td>1</td>\n",
       "      <td>0</td>\n",
       "      <td>3</td>\n",
       "      <td>Braund, Mr. Owen Harris</td>\n",
       "      <td>0</td>\n",
       "      <td>22.0</td>\n",
       "      <td>1</td>\n",
       "      <td>0</td>\n",
       "      <td>A/5 21171</td>\n",
       "      <td>7.2500</td>\n",
       "      <td>NaN</td>\n",
       "      <td>0.0</td>\n",
       "      <td>0</td>\n",
       "      <td>1</td>\n",
       "      <td>1</td>\n",
       "      <td>0</td>\n",
       "      <td>(-0.001, 7.91]</td>\n",
       "      <td>0</td>\n",
       "    </tr>\n",
       "    <tr>\n",
       "      <th>1</th>\n",
       "      <td>2</td>\n",
       "      <td>1</td>\n",
       "      <td>1</td>\n",
       "      <td>Cumings, Mrs. John Bradley (Florence Briggs Th...</td>\n",
       "      <td>1</td>\n",
       "      <td>38.0</td>\n",
       "      <td>1</td>\n",
       "      <td>0</td>\n",
       "      <td>PC 17599</td>\n",
       "      <td>71.2833</td>\n",
       "      <td>C85</td>\n",
       "      <td>1.0</td>\n",
       "      <td>1</td>\n",
       "      <td>2</td>\n",
       "      <td>1</td>\n",
       "      <td>0</td>\n",
       "      <td>(31.0, 512.329]</td>\n",
       "      <td>3</td>\n",
       "    </tr>\n",
       "    <tr>\n",
       "      <th>2</th>\n",
       "      <td>3</td>\n",
       "      <td>1</td>\n",
       "      <td>3</td>\n",
       "      <td>Heikkinen, Miss. Laina</td>\n",
       "      <td>1</td>\n",
       "      <td>26.0</td>\n",
       "      <td>0</td>\n",
       "      <td>0</td>\n",
       "      <td>STON/O2. 3101282</td>\n",
       "      <td>7.9250</td>\n",
       "      <td>NaN</td>\n",
       "      <td>0.0</td>\n",
       "      <td>2</td>\n",
       "      <td>1</td>\n",
       "      <td>0</td>\n",
       "      <td>1</td>\n",
       "      <td>(7.91, 14.454]</td>\n",
       "      <td>1</td>\n",
       "    </tr>\n",
       "    <tr>\n",
       "      <th>3</th>\n",
       "      <td>4</td>\n",
       "      <td>1</td>\n",
       "      <td>1</td>\n",
       "      <td>Futrelle, Mrs. Jacques Heath (Lily May Peel)</td>\n",
       "      <td>1</td>\n",
       "      <td>35.0</td>\n",
       "      <td>1</td>\n",
       "      <td>0</td>\n",
       "      <td>113803</td>\n",
       "      <td>53.1000</td>\n",
       "      <td>C123</td>\n",
       "      <td>0.0</td>\n",
       "      <td>1</td>\n",
       "      <td>2</td>\n",
       "      <td>1</td>\n",
       "      <td>0</td>\n",
       "      <td>(31.0, 512.329]</td>\n",
       "      <td>3</td>\n",
       "    </tr>\n",
       "    <tr>\n",
       "      <th>4</th>\n",
       "      <td>5</td>\n",
       "      <td>0</td>\n",
       "      <td>3</td>\n",
       "      <td>Allen, Mr. William Henry</td>\n",
       "      <td>0</td>\n",
       "      <td>35.0</td>\n",
       "      <td>0</td>\n",
       "      <td>0</td>\n",
       "      <td>373450</td>\n",
       "      <td>8.0500</td>\n",
       "      <td>NaN</td>\n",
       "      <td>0.0</td>\n",
       "      <td>0</td>\n",
       "      <td>2</td>\n",
       "      <td>0</td>\n",
       "      <td>1</td>\n",
       "      <td>(7.91, 14.454]</td>\n",
       "      <td>1</td>\n",
       "    </tr>\n",
       "  </tbody>\n",
       "</table>\n",
       "</div>"
      ],
      "text/plain": [
       "   PassengerId  Survived  Pclass  \\\n",
       "0            1         0       3   \n",
       "1            2         1       1   \n",
       "2            3         1       3   \n",
       "3            4         1       1   \n",
       "4            5         0       3   \n",
       "\n",
       "                                                Name  Sex   Age  SibSp  Parch  \\\n",
       "0                            Braund, Mr. Owen Harris    0  22.0      1      0   \n",
       "1  Cumings, Mrs. John Bradley (Florence Briggs Th...    1  38.0      1      0   \n",
       "2                             Heikkinen, Miss. Laina    1  26.0      0      0   \n",
       "3       Futrelle, Mrs. Jacques Heath (Lily May Peel)    1  35.0      1      0   \n",
       "4                           Allen, Mr. William Henry    0  35.0      0      0   \n",
       "\n",
       "             Ticket     Fare Cabin  Embarked  Initial  Age_group  Family_Size  \\\n",
       "0         A/5 21171   7.2500   NaN       0.0        0          1            1   \n",
       "1          PC 17599  71.2833   C85       1.0        1          2            1   \n",
       "2  STON/O2. 3101282   7.9250   NaN       0.0        2          1            0   \n",
       "3            113803  53.1000  C123       0.0        1          2            1   \n",
       "4            373450   8.0500   NaN       0.0        0          2            0   \n",
       "\n",
       "   Alone       Fare_Range  Fare_cat  \n",
       "0      0   (-0.001, 7.91]         0  \n",
       "1      0  (31.0, 512.329]         3  \n",
       "2      1   (7.91, 14.454]         1  \n",
       "3      0  (31.0, 512.329]         3  \n",
       "4      1   (7.91, 14.454]         1  "
      ]
     },
     "execution_count": 48,
     "metadata": {},
     "output_type": "execute_result"
    }
   ],
   "source": [
    "titanic.head()"
   ]
  },
  {
   "cell_type": "markdown",
   "metadata": {},
   "source": [
    "# Dropping not needed Features"
   ]
  },
  {
   "cell_type": "raw",
   "metadata": {},
   "source": [
    "Name--> We don't need name feature as it cannot be converted into any categorical value.\n",
    "\n",
    "Age--> We have the Age_band feature, so no need of this.\n",
    "\n",
    "Ticket--> It is any random string that cannot be categorised.\n",
    "\n",
    "Fare--> We have the Fare_cat feature, so unneeded\n",
    "\n",
    "Cabin--> A lot of NaN values and also many passengers have multiple cabins. So this is a useless feature.\n",
    "\n",
    "Fare_Range--> We have the fare_cat feature.\n",
    "\n",
    "PassengerId--> Cannot be categorised."
   ]
  },
  {
   "cell_type": "code",
   "execution_count": 49,
   "metadata": {},
   "outputs": [],
   "source": [
    "titanic.drop(['PassengerId', 'Name', 'Age', 'Ticket', 'Fare', 'Cabin', 'Fare_Range'], axis = 1, inplace = True)"
   ]
  },
  {
   "cell_type": "code",
   "execution_count": 54,
   "metadata": {},
   "outputs": [
    {
     "data": {
      "image/png": "[encoded data removed]",
      "text/plain": [
       "<Figure size 720x576 with 2 Axes>"
      ]
     },
     "metadata": {
      "needs_background": "light"
     },
     "output_type": "display_data"
    }
   ],
   "source": [
    "sns.heatmap(titanic.corr(), annot = True, cmap = 'coolwarm')\n",
    "fig=plt.gcf()\n",
    "fig.set_size_inches(10,8)\n",
    "plt.xticks(fontsize=14)\n",
    "plt.yticks(fontsize=14)\n",
    "plt.show()"
   ]
  }
 ],
 "metadata": {
  "kernelspec": {
   "display_name": "Python 3",
   "language": "python",
   "name": "python3"
  },
  "language_info": {
   "codemirror_mode": {
    "name": "ipython",
    "version": 3
   },
   "file_extension": ".py",
   "mimetype": "text/x-python",
   "name": "python",
   "nbconvert_exporter": "python",
   "pygments_lexer": "ipython3",
   "version": "3.7.6"
  }
 },
 "nbformat": 4,
 "nbformat_minor": 4
}
