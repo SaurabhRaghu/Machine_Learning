{
 "cells": [
  {
   "cell_type": "code",
   "execution_count": 1,
   "metadata": {},
   "outputs": [],
   "source": [
    "import pandas as pd"
   ]
  },
  {
   "cell_type": "code",
   "execution_count": 2,
   "metadata": {},
   "outputs": [],
   "source": [
    "data = pd.read_csv('house_rental_data.csv')"
   ]
  },
  {
   "cell_type": "code",
   "execution_count": 3,
   "metadata": {},
   "outputs": [
    {
     "data": {
      "text/html": [
       "<div>\n",
       "<style scoped>\n",
       "    .dataframe tbody tr th:only-of-type {\n",
       "        vertical-align: middle;\n",
       "    }\n",
       "\n",
       "    .dataframe tbody tr th {\n",
       "        vertical-align: top;\n",
       "    }\n",
       "\n",
       "    .dataframe thead th {\n",
       "        text-align: right;\n",
       "    }\n",
       "</style>\n",
       "<table border=\"1\" class=\"dataframe\">\n",
       "  <thead>\n",
       "    <tr style=\"text-align: right;\">\n",
       "      <th></th>\n",
       "      <th>Unnamed: 0</th>\n",
       "      <th>Sqft</th>\n",
       "      <th>Floor</th>\n",
       "      <th>TotalFloor</th>\n",
       "      <th>Bedroom</th>\n",
       "      <th>Living.Room</th>\n",
       "      <th>Bathroom</th>\n",
       "      <th>Price</th>\n",
       "    </tr>\n",
       "  </thead>\n",
       "  <tbody>\n",
       "    <tr>\n",
       "      <th>0</th>\n",
       "      <td>1</td>\n",
       "      <td>1177.698</td>\n",
       "      <td>2</td>\n",
       "      <td>7</td>\n",
       "      <td>2</td>\n",
       "      <td>2</td>\n",
       "      <td>2</td>\n",
       "      <td>62000</td>\n",
       "    </tr>\n",
       "    <tr>\n",
       "      <th>1</th>\n",
       "      <td>2</td>\n",
       "      <td>2134.800</td>\n",
       "      <td>5</td>\n",
       "      <td>7</td>\n",
       "      <td>4</td>\n",
       "      <td>2</td>\n",
       "      <td>2</td>\n",
       "      <td>78000</td>\n",
       "    </tr>\n",
       "    <tr>\n",
       "      <th>2</th>\n",
       "      <td>3</td>\n",
       "      <td>1138.560</td>\n",
       "      <td>5</td>\n",
       "      <td>7</td>\n",
       "      <td>2</td>\n",
       "      <td>2</td>\n",
       "      <td>1</td>\n",
       "      <td>58000</td>\n",
       "    </tr>\n",
       "    <tr>\n",
       "      <th>3</th>\n",
       "      <td>4</td>\n",
       "      <td>1458.780</td>\n",
       "      <td>2</td>\n",
       "      <td>7</td>\n",
       "      <td>3</td>\n",
       "      <td>2</td>\n",
       "      <td>2</td>\n",
       "      <td>45000</td>\n",
       "    </tr>\n",
       "    <tr>\n",
       "      <th>4</th>\n",
       "      <td>5</td>\n",
       "      <td>967.776</td>\n",
       "      <td>11</td>\n",
       "      <td>14</td>\n",
       "      <td>3</td>\n",
       "      <td>2</td>\n",
       "      <td>2</td>\n",
       "      <td>45000</td>\n",
       "    </tr>\n",
       "  </tbody>\n",
       "</table>\n",
       "</div>"
      ],
      "text/plain": [
       "   Unnamed: 0      Sqft  Floor  TotalFloor  Bedroom  Living.Room  Bathroom  \\\n",
       "0           1  1177.698      2           7        2            2         2   \n",
       "1           2  2134.800      5           7        4            2         2   \n",
       "2           3  1138.560      5           7        2            2         1   \n",
       "3           4  1458.780      2           7        3            2         2   \n",
       "4           5   967.776     11          14        3            2         2   \n",
       "\n",
       "   Price  \n",
       "0  62000  \n",
       "1  78000  \n",
       "2  58000  \n",
       "3  45000  \n",
       "4  45000  "
      ]
     },
     "execution_count": 3,
     "metadata": {},
     "output_type": "execute_result"
    }
   ],
   "source": [
    "data.head()"
   ]
  },
  {
   "cell_type": "code",
   "execution_count": 4,
   "metadata": {},
   "outputs": [
    {
     "name": "stdout",
     "output_type": "stream",
     "text": [
      "<class 'pandas.core.frame.DataFrame'>\n",
      "RangeIndex: 645 entries, 0 to 644\n",
      "Data columns (total 8 columns):\n",
      " #   Column       Non-Null Count  Dtype  \n",
      "---  ------       --------------  -----  \n",
      " 0   Unnamed: 0   645 non-null    int64  \n",
      " 1   Sqft         645 non-null    float64\n",
      " 2   Floor        645 non-null    int64  \n",
      " 3   TotalFloor   645 non-null    int64  \n",
      " 4   Bedroom      645 non-null    int64  \n",
      " 5   Living.Room  645 non-null    int64  \n",
      " 6   Bathroom     645 non-null    int64  \n",
      " 7   Price        645 non-null    int64  \n",
      "dtypes: float64(1), int64(7)\n",
      "memory usage: 40.4 KB\n"
     ]
    }
   ],
   "source": [
    "data.info()"
   ]
  },
  {
   "cell_type": "code",
   "execution_count": null,
   "metadata": {},
   "outputs": [],
   "source": []
  },
  {
   "cell_type": "code",
   "execution_count": null,
   "metadata": {},
   "outputs": [],
   "source": []
  },
  {
   "cell_type": "markdown",
   "metadata": {},
   "source": [
    "# CREATING A DATAFRAME"
   ]
  },
  {
   "cell_type": "code",
   "execution_count": 5,
   "metadata": {},
   "outputs": [],
   "source": [
    "# using a dictionary\n",
    "# drawback is columns can be saved in any order\n",
    "\n",
    "dataframe1 = pd.DataFrame({\n",
    "    'Product_id' : [1, 2, 3, 4],\n",
    "    'name' : ['apple', 'ball', 'cat', 'dog'],\n",
    "    'Price' : [25, 35, 45, 55]\n",
    "})"
   ]
  },
  {
   "cell_type": "code",
   "execution_count": 6,
   "metadata": {},
   "outputs": [
    {
     "name": "stdout",
     "output_type": "stream",
     "text": [
      "   Product_id   name  Price\n",
      "0           1  apple     25\n",
      "1           2   ball     35\n",
      "2           3    cat     45\n",
      "3           4    dog     55\n"
     ]
    }
   ],
   "source": [
    "print(dataframe1)"
   ]
  },
  {
   "cell_type": "code",
   "execution_count": null,
   "metadata": {},
   "outputs": [],
   "source": []
  },
  {
   "cell_type": "code",
   "execution_count": 7,
   "metadata": {},
   "outputs": [],
   "source": [
    "# creating dataframe using a list\n",
    "#advantage - columns are in order as we set\n",
    "\n",
    "dataframe2 = pd.DataFrame([\n",
    "    [1, 'apple', 25],\n",
    "    [2, 'ball', 35],\n",
    "    [3, 'cat', 45],\n",
    "    [4, 'dog', 55]\n",
    "],\n",
    "columns = ['product_id', 'name', 'price'])"
   ]
  },
  {
   "cell_type": "code",
   "execution_count": 8,
   "metadata": {},
   "outputs": [
    {
     "name": "stdout",
     "output_type": "stream",
     "text": [
      "   product_id   name  price\n",
      "0           1  apple     25\n",
      "1           2   ball     35\n",
      "2           3    cat     45\n",
      "3           4    dog     55\n"
     ]
    }
   ],
   "source": [
    "print(dataframe2)"
   ]
  },
  {
   "cell_type": "code",
   "execution_count": null,
   "metadata": {},
   "outputs": [],
   "source": []
  },
  {
   "cell_type": "markdown",
   "metadata": {},
   "source": [
    "# SELECTING COLUMNS"
   ]
  },
  {
   "cell_type": "code",
   "execution_count": 9,
   "metadata": {},
   "outputs": [
    {
     "name": "stdout",
     "output_type": "stream",
     "text": [
      "0      62000\n",
      "1      78000\n",
      "2      58000\n",
      "3      45000\n",
      "4      45000\n",
      "       ...  \n",
      "640    45000\n",
      "641    24800\n",
      "642    45000\n",
      "643    65000\n",
      "644    36000\n",
      "Name: Price, Length: 645, dtype: int64\n"
     ]
    }
   ],
   "source": [
    "#One way to select is using dot \n",
    "# dataframe_name.column_name\n",
    "\n",
    "price = data.Price\n",
    "print(price)"
   ]
  },
  {
   "cell_type": "code",
   "execution_count": 10,
   "metadata": {},
   "outputs": [
    {
     "name": "stdout",
     "output_type": "stream",
     "text": [
      "0      1177.698\n",
      "1      2134.800\n",
      "2      1138.560\n",
      "3      1458.780\n",
      "4       967.776\n",
      "         ...   \n",
      "640    1359.156\n",
      "641     377.148\n",
      "642     740.064\n",
      "643    1707.840\n",
      "644    1376.946\n",
      "Name: Sqft, Length: 645, dtype: float64\n"
     ]
    }
   ],
   "source": [
    "#another way is by Selecting the column as if you were selecting a value from a dictionary using a key\n",
    "#dataframe_name['column_name']\n",
    "\n",
    "sqft = data['Sqft']\n",
    "print(sqft)"
   ]
  },
  {
   "cell_type": "code",
   "execution_count": 11,
   "metadata": {},
   "outputs": [
    {
     "name": "stdout",
     "output_type": "stream",
     "text": [
      "<class 'pandas.core.series.Series'>\n"
     ]
    }
   ],
   "source": [
    "#check type of sqft - we will notice it is not DataFrame instead it is a Series\n",
    "\n",
    "print(type(sqft))\n"
   ]
  },
  {
   "cell_type": "markdown",
   "metadata": {},
   "source": [
    "How is a Pandas series different from a dataframe?\n",
    "\n",
    "In Pandas a series is a one-dimensional object that contains any type of data, similar in ways to a Numpy array.\n",
    "A dataframe is a two-dimensional object that can hold multiple columns of different types of data. They are similar to a table in SQL"
   ]
  },
  {
   "cell_type": "code",
   "execution_count": null,
   "metadata": {},
   "outputs": [],
   "source": []
  },
  {
   "cell_type": "code",
   "execution_count": 12,
   "metadata": {},
   "outputs": [
    {
     "name": "stdout",
     "output_type": "stream",
     "text": [
      "     Price      Sqft\n",
      "0    62000  1177.698\n",
      "1    78000  2134.800\n",
      "2    58000  1138.560\n",
      "3    45000  1458.780\n",
      "4    45000   967.776\n",
      "..     ...       ...\n",
      "640  45000  1359.156\n",
      "641  24800   377.148\n",
      "642  45000   740.064\n",
      "643  65000  1707.840\n",
      "644  36000  1376.946\n",
      "\n",
      "[645 rows x 2 columns]\n"
     ]
    }
   ],
   "source": [
    "#selecting multiple columns\n",
    "# Note: *Make sure that you have a double set of brackets ([[]]), or this command won’t work!\n",
    "\n",
    "price_sqft = data[['Price', 'Sqft']]\n",
    "print(price_sqft)"
   ]
  },
  {
   "cell_type": "code",
   "execution_count": 13,
   "metadata": {},
   "outputs": [
    {
     "name": "stdout",
     "output_type": "stream",
     "text": [
      "<class 'pandas.core.frame.DataFrame'>\n"
     ]
    }
   ],
   "source": [
    "print(type(price_sqft))"
   ]
  },
  {
   "cell_type": "markdown",
   "metadata": {},
   "source": [
    "Can we select columns of a Pandas dataframe in any order?\n",
    "\n",
    "Answer\n",
    "\n",
    "You certainly can! When selecting multiple columns from a DataFrame, you can order the columns however you would like them to appear. This is particularly useful because if we wanted to see the data in a certain way different from the original column order, we can reorder them in the output however we need."
   ]
  },
  {
   "cell_type": "code",
   "execution_count": null,
   "metadata": {},
   "outputs": [],
   "source": []
  },
  {
   "cell_type": "markdown",
   "metadata": {},
   "source": [
    "# SELECTING ROWS"
   ]
  },
  {
   "cell_type": "code",
   "execution_count": 14,
   "metadata": {},
   "outputs": [
    {
     "data": {
      "text/plain": [
       "Unnamed: 0         3.00\n",
       "Sqft            1138.56\n",
       "Floor              5.00\n",
       "TotalFloor         7.00\n",
       "Bedroom            2.00\n",
       "Living.Room        2.00\n",
       "Bathroom           1.00\n",
       "Price          58000.00\n",
       "Name: 2, dtype: float64"
      ]
     },
     "execution_count": 14,
     "metadata": {},
     "output_type": "execute_result"
    }
   ],
   "source": [
    "#Purely integer-location based indexing for selection by position.\n",
    "#Selecting a single row\n",
    "\n",
    "data.iloc[2]"
   ]
  },
  {
   "cell_type": "code",
   "execution_count": 15,
   "metadata": {},
   "outputs": [
    {
     "name": "stdout",
     "output_type": "stream",
     "text": [
      "<class 'pandas.core.series.Series'>\n"
     ]
    }
   ],
   "source": [
    "print(type(data.iloc[2]))"
   ]
  },
  {
   "cell_type": "markdown",
   "metadata": {},
   "source": [
    "How come the result of the .iloc is not a list? Why does it show a series?\n",
    "\n",
    "When using iloc in Pandas, it will return a specified row, but in the form of a Series.\n",
    "\n",
    "The left column in the result is composed of indexes which are the column names from the dataframe. And the right column is composed of the values for each column in the row of data.\n",
    "\n",
    "This is a helpful feature in Pandas because it displays all the information about the columns and values of a row in a clear way."
   ]
  },
  {
   "cell_type": "code",
   "execution_count": null,
   "metadata": {},
   "outputs": [],
   "source": []
  },
  {
   "cell_type": "code",
   "execution_count": 16,
   "metadata": {},
   "outputs": [
    {
     "name": "stdout",
     "output_type": "stream",
     "text": [
      "     Unnamed: 0      Sqft  Floor  TotalFloor  Bedroom  Living.Room  Bathroom  \\\n",
      "642         646   740.064     13          14        1            1         1   \n",
      "643         647  1707.840      3          14        3            2         2   \n",
      "644         648  1376.946      6           7        3            2         1   \n",
      "\n",
      "     Price  \n",
      "642  45000  \n",
      "643  65000  \n",
      "644  36000  \n"
     ]
    }
   ],
   "source": [
    "#Selecting multiple rows\n",
    "\n",
    "multiple_rows = data.iloc[-3: ]\n",
    "print(multiple_rows)"
   ]
  },
  {
   "cell_type": "code",
   "execution_count": 17,
   "metadata": {},
   "outputs": [
    {
     "name": "stdout",
     "output_type": "stream",
     "text": [
      "<class 'pandas.core.frame.DataFrame'>\n"
     ]
    }
   ],
   "source": [
    "print(type(multiple_rows))"
   ]
  },
  {
   "cell_type": "code",
   "execution_count": null,
   "metadata": {},
   "outputs": [],
   "source": []
  },
  {
   "cell_type": "markdown",
   "metadata": {},
   "source": [
    "# SELECTING ROWS WITH LOGIC"
   ]
  },
  {
   "cell_type": "code",
   "execution_count": 18,
   "metadata": {},
   "outputs": [
    {
     "name": "stdout",
     "output_type": "stream",
     "text": [
      "     Unnamed: 0      Sqft  Floor  TotalFloor  Bedroom  Living.Room  Bathroom  \\\n",
      "182         185  3255.570      4           7        4            2         5   \n",
      "248         251  3255.570      4           7        4            2         5   \n",
      "391         395  3255.570      4           7        4            2         5   \n",
      "572         576  5856.468      7          21        6            2         5   \n",
      "\n",
      "      Price  \n",
      "182  130000  \n",
      "248  120000  \n",
      "391  120000  \n",
      "572  180000  \n"
     ]
    }
   ],
   "source": [
    "##### Selecting rows with Logic 1\n",
    "# You can select a subset of a DataFrame by using logical statements:\n",
    "# df[df.MyColumnName == desired_column_value]\n",
    "\n",
    "logic1 = data[data.Bathroom == 5]\n",
    "print(logic1)"
   ]
  },
  {
   "cell_type": "code",
   "execution_count": null,
   "metadata": {},
   "outputs": [],
   "source": []
  },
  {
   "cell_type": "code",
   "execution_count": 19,
   "metadata": {},
   "outputs": [
    {
     "name": "stdout",
     "output_type": "stream",
     "text": [
      "     Unnamed: 0      Sqft  Floor  TotalFloor  Bedroom  Living.Room  Bathroom  \\\n",
      "572         576  5856.468      7          21        6            2         5   \n",
      "\n",
      "      Price  \n",
      "572  180000  \n"
     ]
    }
   ],
   "source": [
    "# Selecting rows with Logic 2\n",
    "# You can also combine multiple logical statements, as long as each statement is in parentheses.\n",
    "# In Python, | means “or” and & means “and”.\n",
    "# df[(df.MyColumnName == desired_column_value) | or & (df.MyColumnName == desired_column_value)]\n",
    "logic2 = data[(data.Bathroom == 5) & (data.TotalFloor == 21)]\n",
    "print(logic2)"
   ]
  },
  {
   "cell_type": "code",
   "execution_count": 20,
   "metadata": {},
   "outputs": [
    {
     "name": "stdout",
     "output_type": "stream",
     "text": [
      "<class 'pandas.core.frame.DataFrame'>\n"
     ]
    }
   ],
   "source": [
    "print(type(logic2))"
   ]
  },
  {
   "cell_type": "code",
   "execution_count": null,
   "metadata": {},
   "outputs": [],
   "source": []
  },
  {
   "cell_type": "code",
   "execution_count": 21,
   "metadata": {},
   "outputs": [
    {
     "name": "stdout",
     "output_type": "stream",
     "text": [
      "     Unnamed: 0      Sqft  Floor  TotalFloor  Bedroom  Living.Room  Bathroom  \\\n",
      "79           80   914.406      2           4        2            2         1   \n",
      "89           90  2312.700      7          15        4            2         2   \n",
      "182         185  3255.570      4           7        4            2         5   \n",
      "\n",
      "      Price  \n",
      "79    37000  \n",
      "89    70000  \n",
      "182  130000  \n"
     ]
    }
   ],
   "source": [
    "# Selecting rows with logic 3\n",
    "# We could use the isin command to check that df.name is one of a list of values:\n",
    "\n",
    "## df[df.name_of_column.isin(['value1','value2','value3'.....])] \n",
    "# *important NOTE* ---  .isin([]) only takes LIST as an argument\n",
    "\n",
    "logic3 = data[data['Unnamed: 0'].isin([185,90,80])]\n",
    "print(logic3)"
   ]
  },
  {
   "cell_type": "code",
   "execution_count": null,
   "metadata": {},
   "outputs": [],
   "source": []
  },
  {
   "cell_type": "markdown",
   "metadata": {},
   "source": [
    "# SETTING INDICES (INDEX)"
   ]
  },
  {
   "cell_type": "markdown",
   "metadata": {},
   "source": [
    "When we select a subset of a DataFrame using logic, we end up with non-consecutive indices. This is inelegant and makes it hard to use .iloc()."
   ]
  },
  {
   "cell_type": "markdown",
   "metadata": {},
   "source": [
    "We can fix this using the method .reset_index(). For example, here is a DataFrame called df with non-consecutive indices:\n",
    "If we use the command df.reset_index(), we get a new DataFrame with a new set of indices"
   ]
  },
  {
   "cell_type": "code",
   "execution_count": 22,
   "metadata": {},
   "outputs": [
    {
     "data": {
      "text/html": [
       "<div>\n",
       "<style scoped>\n",
       "    .dataframe tbody tr th:only-of-type {\n",
       "        vertical-align: middle;\n",
       "    }\n",
       "\n",
       "    .dataframe tbody tr th {\n",
       "        vertical-align: top;\n",
       "    }\n",
       "\n",
       "    .dataframe thead th {\n",
       "        text-align: right;\n",
       "    }\n",
       "</style>\n",
       "<table border=\"1\" class=\"dataframe\">\n",
       "  <thead>\n",
       "    <tr style=\"text-align: right;\">\n",
       "      <th></th>\n",
       "      <th>index</th>\n",
       "      <th>Unnamed: 0</th>\n",
       "      <th>Sqft</th>\n",
       "      <th>Floor</th>\n",
       "      <th>TotalFloor</th>\n",
       "      <th>Bedroom</th>\n",
       "      <th>Living.Room</th>\n",
       "      <th>Bathroom</th>\n",
       "      <th>Price</th>\n",
       "    </tr>\n",
       "  </thead>\n",
       "  <tbody>\n",
       "    <tr>\n",
       "      <th>0</th>\n",
       "      <td>79</td>\n",
       "      <td>80</td>\n",
       "      <td>914.406</td>\n",
       "      <td>2</td>\n",
       "      <td>4</td>\n",
       "      <td>2</td>\n",
       "      <td>2</td>\n",
       "      <td>1</td>\n",
       "      <td>37000</td>\n",
       "    </tr>\n",
       "    <tr>\n",
       "      <th>1</th>\n",
       "      <td>89</td>\n",
       "      <td>90</td>\n",
       "      <td>2312.700</td>\n",
       "      <td>7</td>\n",
       "      <td>15</td>\n",
       "      <td>4</td>\n",
       "      <td>2</td>\n",
       "      <td>2</td>\n",
       "      <td>70000</td>\n",
       "    </tr>\n",
       "    <tr>\n",
       "      <th>2</th>\n",
       "      <td>182</td>\n",
       "      <td>185</td>\n",
       "      <td>3255.570</td>\n",
       "      <td>4</td>\n",
       "      <td>7</td>\n",
       "      <td>4</td>\n",
       "      <td>2</td>\n",
       "      <td>5</td>\n",
       "      <td>130000</td>\n",
       "    </tr>\n",
       "  </tbody>\n",
       "</table>\n",
       "</div>"
      ],
      "text/plain": [
       "   index  Unnamed: 0      Sqft  Floor  TotalFloor  Bedroom  Living.Room  \\\n",
       "0     79          80   914.406      2           4        2            2   \n",
       "1     89          90  2312.700      7          15        4            2   \n",
       "2    182         185  3255.570      4           7        4            2   \n",
       "\n",
       "   Bathroom   Price  \n",
       "0         1   37000  \n",
       "1         2   70000  \n",
       "2         5  130000  "
      ]
     },
     "execution_count": 22,
     "metadata": {},
     "output_type": "execute_result"
    }
   ],
   "source": [
    "logic3.reset_index()"
   ]
  },
  {
   "cell_type": "markdown",
   "metadata": {},
   "source": [
    "Note that the old indices have been moved into a new column called 'index'. Unless you need those values for something special, it’s probably better to use the keyword drop=True so that you don’t end up with that extra column. If we run the command df.reset_index(drop=True), we get a new DataFrame that looks like this:"
   ]
  },
  {
   "cell_type": "code",
   "execution_count": 23,
   "metadata": {},
   "outputs": [
    {
     "data": {
      "text/html": [
       "<div>\n",
       "<style scoped>\n",
       "    .dataframe tbody tr th:only-of-type {\n",
       "        vertical-align: middle;\n",
       "    }\n",
       "\n",
       "    .dataframe tbody tr th {\n",
       "        vertical-align: top;\n",
       "    }\n",
       "\n",
       "    .dataframe thead th {\n",
       "        text-align: right;\n",
       "    }\n",
       "</style>\n",
       "<table border=\"1\" class=\"dataframe\">\n",
       "  <thead>\n",
       "    <tr style=\"text-align: right;\">\n",
       "      <th></th>\n",
       "      <th>Unnamed: 0</th>\n",
       "      <th>Sqft</th>\n",
       "      <th>Floor</th>\n",
       "      <th>TotalFloor</th>\n",
       "      <th>Bedroom</th>\n",
       "      <th>Living.Room</th>\n",
       "      <th>Bathroom</th>\n",
       "      <th>Price</th>\n",
       "    </tr>\n",
       "  </thead>\n",
       "  <tbody>\n",
       "    <tr>\n",
       "      <th>0</th>\n",
       "      <td>80</td>\n",
       "      <td>914.406</td>\n",
       "      <td>2</td>\n",
       "      <td>4</td>\n",
       "      <td>2</td>\n",
       "      <td>2</td>\n",
       "      <td>1</td>\n",
       "      <td>37000</td>\n",
       "    </tr>\n",
       "    <tr>\n",
       "      <th>1</th>\n",
       "      <td>90</td>\n",
       "      <td>2312.700</td>\n",
       "      <td>7</td>\n",
       "      <td>15</td>\n",
       "      <td>4</td>\n",
       "      <td>2</td>\n",
       "      <td>2</td>\n",
       "      <td>70000</td>\n",
       "    </tr>\n",
       "    <tr>\n",
       "      <th>2</th>\n",
       "      <td>185</td>\n",
       "      <td>3255.570</td>\n",
       "      <td>4</td>\n",
       "      <td>7</td>\n",
       "      <td>4</td>\n",
       "      <td>2</td>\n",
       "      <td>5</td>\n",
       "      <td>130000</td>\n",
       "    </tr>\n",
       "  </tbody>\n",
       "</table>\n",
       "</div>"
      ],
      "text/plain": [
       "   Unnamed: 0      Sqft  Floor  TotalFloor  Bedroom  Living.Room  Bathroom  \\\n",
       "0          80   914.406      2           4        2            2         1   \n",
       "1          90  2312.700      7          15        4            2         2   \n",
       "2         185  3255.570      4           7        4            2         5   \n",
       "\n",
       "    Price  \n",
       "0   37000  \n",
       "1   70000  \n",
       "2  130000  "
      ]
     },
     "execution_count": 23,
     "metadata": {},
     "output_type": "execute_result"
    }
   ],
   "source": [
    "logic3.reset_index(drop=True)"
   ]
  },
  {
   "cell_type": "markdown",
   "metadata": {},
   "source": [
    "Using .reset_index() will return a new DataFrame, but we usually just want to modify our existing DataFrame. If we use the keyword inplace=True we can just modify our existing DataFrame."
   ]
  },
  {
   "cell_type": "code",
   "execution_count": 24,
   "metadata": {},
   "outputs": [],
   "source": [
    "logic3.reset_index(inplace = True, drop=True)"
   ]
  },
  {
   "cell_type": "code",
   "execution_count": null,
   "metadata": {},
   "outputs": [],
   "source": []
  },
  {
   "cell_type": "markdown",
   "metadata": {},
   "source": [
    "# ADDING A COLUMN"
   ]
  },
  {
   "cell_type": "code",
   "execution_count": 25,
   "metadata": {},
   "outputs": [
    {
     "name": "stdout",
     "output_type": "stream",
     "text": [
      "   Product_id   name  Price\n",
      "0           1  apple     25\n",
      "1           2   ball     35\n",
      "2           3    cat     45\n",
      "3           4    dog     55\n"
     ]
    }
   ],
   "source": [
    "# Recall the DataFrame - dataframe1 we created in the beginning:\n",
    "print(dataframe1)"
   ]
  },
  {
   "cell_type": "code",
   "execution_count": 26,
   "metadata": {},
   "outputs": [
    {
     "name": "stdout",
     "output_type": "stream",
     "text": [
      "   Product_id   name  Price  cost\n",
      "0           1  apple     25     1\n",
      "1           2   ball     35     2\n",
      "2           3    cat     45     3\n",
      "3           4    dog     55     4\n"
     ]
    }
   ],
   "source": [
    "# Adding a Column I:\n",
    "# One way that we can add a new column is by giving a list of the same length as the existing DataFrame.\n",
    "\n",
    "dataframe1['cost'] = [1,2,3,4]\n",
    "print(dataframe1)"
   ]
  },
  {
   "cell_type": "markdown",
   "metadata": {},
   "source": [
    "We can see a new column 'cost' is added to the DataFrame"
   ]
  },
  {
   "cell_type": "code",
   "execution_count": 27,
   "metadata": {},
   "outputs": [
    {
     "name": "stdout",
     "output_type": "stream",
     "text": [
      "   Product_id   name  Price  cost          email\n",
      "0           1  apple     25     1  product@email\n",
      "1           2   ball     35     2  product@email\n",
      "2           3    cat     45     3  product@email\n",
      "3           4    dog     55     4  product@email\n"
     ]
    }
   ],
   "source": [
    "# Adding a Column 2:\n",
    "# We can also add a new column that is the same for all rows in the DataFrame\n",
    "\n",
    "dataframe1['email'] = 'product@email'\n",
    "print(dataframe1)"
   ]
  },
  {
   "cell_type": "code",
   "execution_count": 28,
   "metadata": {},
   "outputs": [
    {
     "name": "stdout",
     "output_type": "stream",
     "text": [
      "   Product_id   name  Price  cost          email   tax\n",
      "0           1  apple     25     1  product@email  1.25\n",
      "1           2   ball     35     2  product@email  1.75\n",
      "2           3    cat     45     3  product@email  2.25\n",
      "3           4    dog     55     4  product@email  2.75\n"
     ]
    }
   ],
   "source": [
    "# Adding a Column 3:\n",
    "# we can add a new column by performing a function on the existing columns\n",
    "\n",
    "dataframe1['tax'] = dataframe1.Price * .05\n",
    "print(dataframe1)"
   ]
  },
  {
   "cell_type": "code",
   "execution_count": null,
   "metadata": {},
   "outputs": [],
   "source": []
  },
  {
   "cell_type": "markdown",
   "metadata": {},
   "source": [
    "# PERFORMING COLUMN OPERATIONS"
   ]
  },
  {
   "cell_type": "markdown",
   "metadata": {},
   "source": [
    "Often, the column that we want to add is related to existing columns, but requires a calculation more complex than multiplication or addition.\n",
    "\n",
    "We can use the apply function to apply a function to every value in a particular column."
   ]
  },
  {
   "cell_type": "code",
   "execution_count": 29,
   "metadata": {},
   "outputs": [],
   "source": [
    "#from string import upper\n",
    "#dataframe1['upper_name'] = dataframe1.name.apply(upper)\n",
    "# fix this problem"
   ]
  },
  {
   "cell_type": "code",
   "execution_count": null,
   "metadata": {},
   "outputs": [],
   "source": []
  },
  {
   "cell_type": "markdown",
   "metadata": {},
   "source": [
    "# LAMBDA FUNCTION"
   ]
  },
  {
   "cell_type": "markdown",
   "metadata": {},
   "source": [
    "A lambda function is a way of defining a function in a single line of code. Usually, we would assign them to a variable.\n",
    "\n",
    "mylambda = lambda x: (x * 2) + 3\n",
    "\n",
    "print(mylambda(5))\n",
    "\n",
    "The output: 13"
   ]
  },
  {
   "cell_type": "code",
   "execution_count": 30,
   "metadata": {},
   "outputs": [
    {
     "name": "stdout",
     "output_type": "stream",
     "text": [
      "Hd\n"
     ]
    }
   ],
   "source": [
    "# lambda function mylambda that returns the first and last letters of a string\n",
    "\n",
    "mylambda = lambda x: x[0]+x[-1]\n",
    "print(mylambda('Hello World'))"
   ]
  },
  {
   "cell_type": "code",
   "execution_count": null,
   "metadata": {},
   "outputs": [],
   "source": []
  },
  {
   "cell_type": "code",
   "execution_count": 31,
   "metadata": {},
   "outputs": [],
   "source": [
    "# We can make our lambdas more complex by using a modified form of an if statement.\n",
    "# n general, the syntax for an if function in a lambda function is:\n",
    "# lambda x: [OUTCOME IF TRUE] if [CONDITIONAL] else [OUTCOME IF FALSE]\n"
   ]
  },
  {
   "cell_type": "code",
   "execution_count": 32,
   "metadata": {},
   "outputs": [
    {
     "name": "stdout",
     "output_type": "stream",
     "text": [
      "   Product_id   name  Price  cost          email   tax split_email\n",
      "0           1  apple     25     1  product@email  1.25       email\n",
      "1           2   ball     35     2  product@email  1.75       email\n",
      "2           3    cat     45     3  product@email  2.25       email\n",
      "3           4    dog     55     4  product@email  2.75       email\n"
     ]
    }
   ],
   "source": [
    "# Applying Lambda to a column\n",
    "split = lambda x : x.split('@')[-1]\n",
    "dataframe1['split_email'] = dataframe1.email.apply(split)\n",
    "print(dataframe1)"
   ]
  },
  {
   "cell_type": "code",
   "execution_count": 33,
   "metadata": {},
   "outputs": [
    {
     "name": "stdout",
     "output_type": "stream",
     "text": [
      "   Product_id   name  Price  cost          email   tax split_email  \\\n",
      "0           1  apple     25     1  product@email  1.25       email   \n",
      "1           2   ball     35     2  product@email  1.75       email   \n",
      "2           3    cat     45     3  product@email  2.25       email   \n",
      "3           4    dog     55     4  product@email  2.75       email   \n",
      "\n",
      "   price_with_tax  \n",
      "0           25.00  \n",
      "1           35.00  \n",
      "2          101.25  \n",
      "3          151.25  \n"
     ]
    }
   ],
   "source": [
    "# Applying lamda to row\n",
    "# inside apply it is mandatory to set axis = 1 or else code wont work\n",
    "\n",
    "with_tax = lambda row : row['Price'] * row['tax'] if row['Price'] > 40 else row['Price']\n",
    "\n",
    "dataframe1['price_with_tax'] = dataframe1.apply(with_tax, axis = 1)\n",
    "\n",
    "print(dataframe1)"
   ]
  },
  {
   "cell_type": "code",
   "execution_count": null,
   "metadata": {},
   "outputs": [],
   "source": []
  },
  {
   "cell_type": "markdown",
   "metadata": {},
   "source": [
    "# Renaming Columns"
   ]
  },
  {
   "cell_type": "markdown",
   "metadata": {},
   "source": [
    "We can change all of the column names at once by setting the .columns property to a different list. This is great when you need to change all of the column names at once, but be careful! You can easily mislabel columns if you get the ordering wrong"
   ]
  },
  {
   "cell_type": "code",
   "execution_count": 34,
   "metadata": {},
   "outputs": [
    {
     "name": "stdout",
     "output_type": "stream",
     "text": [
      "   product_id   name  price\n",
      "0           1  apple     25\n",
      "1           2   ball     35\n",
      "2           3    cat     45\n",
      "3           4    dog     55\n"
     ]
    }
   ],
   "source": [
    "# renaming the columns of dataframe2\n",
    "# but first lets recall the coulmn name\n",
    "\n",
    "print(dataframe2)"
   ]
  },
  {
   "cell_type": "code",
   "execution_count": 35,
   "metadata": {},
   "outputs": [
    {
     "name": "stdout",
     "output_type": "stream",
     "text": [
      "   Product_ID Product_Name  Product_Price\n",
      "0           1        apple             25\n",
      "1           2         ball             35\n",
      "2           3          cat             45\n",
      "3           4          dog             55\n"
     ]
    }
   ],
   "source": [
    "dataframe2.columns = ['Product_ID', 'Product_Name', 'Product_Price']\n",
    "print(dataframe2)"
   ]
  },
  {
   "cell_type": "code",
   "execution_count": null,
   "metadata": {},
   "outputs": [],
   "source": []
  },
  {
   "cell_type": "raw",
   "metadata": {},
   "source": [
    "# Renaming column 2\n",
    "# You also can rename individual columns by using the .rename method\n",
    "# Pass a dictionary to the columns keyword argument:\n",
    "# Using rename with only the columns keyword will create a new DataFrame, leaving your original DataFrame unchanged. That’s why we also passed in the keyword argument inplace=True.\n",
    "# Using inplace=True lets us edit the original DataFrame."
   ]
  },
  {
   "cell_type": "code",
   "execution_count": 36,
   "metadata": {},
   "outputs": [
    {
     "name": "stdout",
     "output_type": "stream",
     "text": [
      "   Product_ID   Name  Product_Price\n",
      "0           1  apple             25\n",
      "1           2   ball             35\n",
      "2           3    cat             45\n",
      "3           4    dog             55\n"
     ]
    }
   ],
   "source": [
    "dataframe2.rename(columns = {\n",
    "    'Product_Name' : 'Name'\n",
    "}, inplace = True)\n",
    "\n",
    "print(dataframe2)"
   ]
  },
  {
   "cell_type": "code",
   "execution_count": null,
   "metadata": {},
   "outputs": [],
   "source": []
  },
  {
   "cell_type": "markdown",
   "metadata": {},
   "source": [
    "# AGGREGATES IN PANDAS"
   ]
  },
  {
   "cell_type": "markdown",
   "metadata": {},
   "source": [
    "This lesson you will learn about aggregates in Pandas. An aggregate statistic is a way of creating a single number that describes a group of numbers. Common aggregate statistics include mean, median, or standard deviation.\n",
    "\n",
    "You will also learn how to rearrange a DataFrame into a pivot table, which is a great way to compare data across two dimensions"
   ]
  },
  {
   "cell_type": "markdown",
   "metadata": {},
   "source": [
    "We will learn how to combine all of the values from a column for a single calculation.\n",
    "\n",
    "The general syntax for these calculations is:\n",
    "\n",
    "df.column_name.command()\n"
   ]
  },
  {
   "cell_type": "raw",
   "metadata": {},
   "source": [
    "The following table summarizes some common commands:\n",
    "    mean - average of all values in column\n",
    "    std  - standard deviation\n",
    "    median - median\n",
    "    max - maximun value in a column\n",
    "    min - minimum   ''   ''     ''\n",
    "    count - no. of values in a table\n",
    "    nunique - no. of unique values in column\n",
    "    unique - list of unique values in column"
   ]
  },
  {
   "cell_type": "code",
   "execution_count": 37,
   "metadata": {},
   "outputs": [
    {
     "data": {
      "text/html": [
       "<div>\n",
       "<style scoped>\n",
       "    .dataframe tbody tr th:only-of-type {\n",
       "        vertical-align: middle;\n",
       "    }\n",
       "\n",
       "    .dataframe tbody tr th {\n",
       "        vertical-align: top;\n",
       "    }\n",
       "\n",
       "    .dataframe thead th {\n",
       "        text-align: right;\n",
       "    }\n",
       "</style>\n",
       "<table border=\"1\" class=\"dataframe\">\n",
       "  <thead>\n",
       "    <tr style=\"text-align: right;\">\n",
       "      <th></th>\n",
       "      <th>Unnamed: 0</th>\n",
       "      <th>Sqft</th>\n",
       "      <th>Floor</th>\n",
       "      <th>TotalFloor</th>\n",
       "      <th>Bedroom</th>\n",
       "      <th>Living.Room</th>\n",
       "      <th>Bathroom</th>\n",
       "      <th>Price</th>\n",
       "    </tr>\n",
       "  </thead>\n",
       "  <tbody>\n",
       "    <tr>\n",
       "      <th>0</th>\n",
       "      <td>1</td>\n",
       "      <td>1177.698</td>\n",
       "      <td>2</td>\n",
       "      <td>7</td>\n",
       "      <td>2</td>\n",
       "      <td>2</td>\n",
       "      <td>2</td>\n",
       "      <td>62000</td>\n",
       "    </tr>\n",
       "    <tr>\n",
       "      <th>1</th>\n",
       "      <td>2</td>\n",
       "      <td>2134.800</td>\n",
       "      <td>5</td>\n",
       "      <td>7</td>\n",
       "      <td>4</td>\n",
       "      <td>2</td>\n",
       "      <td>2</td>\n",
       "      <td>78000</td>\n",
       "    </tr>\n",
       "    <tr>\n",
       "      <th>2</th>\n",
       "      <td>3</td>\n",
       "      <td>1138.560</td>\n",
       "      <td>5</td>\n",
       "      <td>7</td>\n",
       "      <td>2</td>\n",
       "      <td>2</td>\n",
       "      <td>1</td>\n",
       "      <td>58000</td>\n",
       "    </tr>\n",
       "    <tr>\n",
       "      <th>3</th>\n",
       "      <td>4</td>\n",
       "      <td>1458.780</td>\n",
       "      <td>2</td>\n",
       "      <td>7</td>\n",
       "      <td>3</td>\n",
       "      <td>2</td>\n",
       "      <td>2</td>\n",
       "      <td>45000</td>\n",
       "    </tr>\n",
       "    <tr>\n",
       "      <th>4</th>\n",
       "      <td>5</td>\n",
       "      <td>967.776</td>\n",
       "      <td>11</td>\n",
       "      <td>14</td>\n",
       "      <td>3</td>\n",
       "      <td>2</td>\n",
       "      <td>2</td>\n",
       "      <td>45000</td>\n",
       "    </tr>\n",
       "  </tbody>\n",
       "</table>\n",
       "</div>"
      ],
      "text/plain": [
       "   Unnamed: 0      Sqft  Floor  TotalFloor  Bedroom  Living.Room  Bathroom  \\\n",
       "0           1  1177.698      2           7        2            2         2   \n",
       "1           2  2134.800      5           7        4            2         2   \n",
       "2           3  1138.560      5           7        2            2         1   \n",
       "3           4  1458.780      2           7        3            2         2   \n",
       "4           5   967.776     11          14        3            2         2   \n",
       "\n",
       "   Price  \n",
       "0  62000  \n",
       "1  78000  \n",
       "2  58000  \n",
       "3  45000  \n",
       "4  45000  "
      ]
     },
     "execution_count": 37,
     "metadata": {},
     "output_type": "execute_result"
    }
   ],
   "source": [
    "# before performing lets recall our data DataFrame\n",
    "\n",
    "data.head()"
   ]
  },
  {
   "cell_type": "code",
   "execution_count": 38,
   "metadata": {},
   "outputs": [
    {
     "name": "stdout",
     "output_type": "stream",
     "text": [
      "[ 2  5 11 10  4  9  6  3 19  7 21  8  1 12 13 18 14 16 15 22 17]\n"
     ]
    }
   ],
   "source": [
    "print(data.Floor.unique())"
   ]
  },
  {
   "cell_type": "code",
   "execution_count": 39,
   "metadata": {},
   "outputs": [
    {
     "name": "stdout",
     "output_type": "stream",
     "text": [
      "250000\n"
     ]
    }
   ],
   "source": [
    "print(data.Price.max())"
   ]
  },
  {
   "cell_type": "code",
   "execution_count": null,
   "metadata": {},
   "outputs": [],
   "source": []
  },
  {
   "cell_type": "markdown",
   "metadata": {},
   "source": [
    "GROUPBY FUNCTION"
   ]
  },
  {
   "cell_type": "raw",
   "metadata": {},
   "source": [
    "df.groupby('column1').column2.measurement()\n",
    "\n",
    "where:\n",
    "column1 is the column that we want to group by ('student' in our example)\n",
    "column2 is the column that we want to perform a measurement on (grade in our example)\n",
    "measurement is the measurement function we want to apply (mean in our example)"
   ]
  },
  {
   "cell_type": "code",
   "execution_count": 40,
   "metadata": {},
   "outputs": [
    {
     "name": "stdout",
     "output_type": "stream",
     "text": [
      "TotalFloor\n",
      "1      12000\n",
      "3      32500\n",
      "4     150000\n",
      "5     100000\n",
      "6     180000\n",
      "7     168000\n",
      "8      63000\n",
      "9     160000\n",
      "10    120000\n",
      "11    185000\n",
      "12    150000\n",
      "13    206000\n",
      "14    250000\n",
      "15    180000\n",
      "16    200000\n",
      "17    100000\n",
      "18    135000\n",
      "19    200000\n",
      "20     55000\n",
      "21    180000\n",
      "24    145000\n",
      "25    110000\n",
      "26     19000\n",
      "27     60000\n",
      "38    225000\n",
      "Name: Price, dtype: int64\n"
     ]
    }
   ],
   "source": [
    "total_floor = data.groupby('TotalFloor').Price.max()\n",
    "print(total_floor)"
   ]
  },
  {
   "cell_type": "code",
   "execution_count": 41,
   "metadata": {},
   "outputs": [
    {
     "name": "stdout",
     "output_type": "stream",
     "text": [
      "<class 'pandas.core.series.Series'>\n"
     ]
    }
   ],
   "source": [
    "print(type(total_floor))"
   ]
  },
  {
   "cell_type": "raw",
   "metadata": {},
   "source": [
    "the groupby functions return a series..\n",
    "it is very imp to see this as the grouped floors in the above example serve as a indicator and not as a column..."
   ]
  },
  {
   "cell_type": "code",
   "execution_count": 82,
   "metadata": {},
   "outputs": [
    {
     "data": {
      "text/plain": [
       "TotalFloor  Bathroom\n",
       "1           1            12000\n",
       "3           1            32500\n",
       "4           1           574099\n",
       "            2           748998\n",
       "            3           192000\n",
       "                         ...  \n",
       "25          1            65000\n",
       "            2           854000\n",
       "26          1            19000\n",
       "27          2           117000\n",
       "38          3           225000\n",
       "Name: Price, Length: 68, dtype: int64"
      ]
     },
     "execution_count": 82,
     "metadata": {},
     "output_type": "execute_result"
    }
   ],
   "source": [
    "data.groupby([data.TotalFloor,data.Bathroom]).Price.sum()"
   ]
  },
  {
   "cell_type": "markdown",
   "metadata": {},
   "source": [
    "RESET INDEX"
   ]
  },
  {
   "cell_type": "raw",
   "metadata": {},
   "source": [
    "As we saw in the previous exercise, the groupby function creates a new Series, not a DataFrame. For our above example, the indices of the Series were different values of TotalFloor, and the name property was price.\n",
    "\n",
    "Usually, we’d prefer that those indices were actually a column. In order to get that, we can use reset_index(). This will transform our Series into a DataFrame and move the indices into their own column."
   ]
  },
  {
   "cell_type": "code",
   "execution_count": 42,
   "metadata": {},
   "outputs": [
    {
     "name": "stdout",
     "output_type": "stream",
     "text": [
      "    TotalFloor   Price\n",
      "0            1   12000\n",
      "1            3   32500\n",
      "2            4  150000\n",
      "3            5  100000\n",
      "4            6  180000\n",
      "5            7  168000\n",
      "6            8   63000\n",
      "7            9  160000\n",
      "8           10  120000\n",
      "9           11  185000\n",
      "10          12  150000\n",
      "11          13  206000\n",
      "12          14  250000\n",
      "13          15  180000\n",
      "14          16  200000\n",
      "15          17  100000\n",
      "16          18  135000\n",
      "17          19  200000\n",
      "18          20   55000\n",
      "19          21  180000\n",
      "20          24  145000\n",
      "21          25  110000\n",
      "22          26   19000\n",
      "23          27   60000\n",
      "24          38  225000\n"
     ]
    }
   ],
   "source": [
    "total_floor = data.groupby('TotalFloor').Price.max().reset_index()\n",
    "print(total_floor)"
   ]
  },
  {
   "cell_type": "code",
   "execution_count": 43,
   "metadata": {
    "scrolled": false
   },
   "outputs": [
    {
     "name": "stdout",
     "output_type": "stream",
     "text": [
      "    TotalFloor    Cost\n",
      "0            1   12000\n",
      "1            3   32500\n",
      "2            4  150000\n",
      "3            5  100000\n",
      "4            6  180000\n",
      "5            7  168000\n",
      "6            8   63000\n",
      "7            9  160000\n",
      "8           10  120000\n",
      "9           11  185000\n",
      "10          12  150000\n",
      "11          13  206000\n",
      "12          14  250000\n",
      "13          15  180000\n",
      "14          16  200000\n",
      "15          17  100000\n",
      "16          18  135000\n",
      "17          19  200000\n",
      "18          20   55000\n",
      "19          21  180000\n",
      "20          24  145000\n",
      "21          25  110000\n",
      "22          26   19000\n",
      "23          27   60000\n",
      "24          38  225000\n"
     ]
    }
   ],
   "source": [
    "# sometimes we want to rename the column name for proper appropriation\n",
    "\n",
    "total_floor = total_floor.rename(columns = {\n",
    "    'Price' : 'Cost'\n",
    "})\n",
    "print(total_floor)"
   ]
  },
  {
   "cell_type": "code",
   "execution_count": 44,
   "metadata": {},
   "outputs": [
    {
     "name": "stdout",
     "output_type": "stream",
     "text": [
      "<class 'pandas.core.frame.DataFrame'>\n"
     ]
    }
   ],
   "source": [
    "# Now if we print the type we will see it is a DataFrame after using the .reset_index()\n",
    "\n",
    "print(type(total_floor))"
   ]
  },
  {
   "cell_type": "code",
   "execution_count": null,
   "metadata": {},
   "outputs": [],
   "source": []
  },
  {
   "cell_type": "markdown",
   "metadata": {},
   "source": [
    "Calculating Aggregate Functions III\n",
    "\n",
    "Sometimes, the operation that you want to perform is more complicated than mean or count. In those cases, you can use the apply method and lambda functions, just like we did for individual column operations. Note that the input to our lambda function will always be a list of values."
   ]
  },
  {
   "cell_type": "code",
   "execution_count": 45,
   "metadata": {},
   "outputs": [],
   "source": [
    "import numpy as np"
   ]
  },
  {
   "cell_type": "code",
   "execution_count": 46,
   "metadata": {},
   "outputs": [],
   "source": [
    "# np.percentile can calculate any percentile over an array of values\n",
    "\n",
    "high_prices = data.groupby('TotalFloor').Price.apply(lambda x: np.percentile(x, 75)).reset_index()"
   ]
  },
  {
   "cell_type": "code",
   "execution_count": 47,
   "metadata": {},
   "outputs": [
    {
     "name": "stdout",
     "output_type": "stream",
     "text": [
      "    TotalFloor      Price\n",
      "0            1   12000.00\n",
      "1            3   32500.00\n",
      "2            4   45249.75\n",
      "3            5   45750.00\n",
      "4            6   82000.00\n",
      "5            7   75000.00\n",
      "6            8   56500.00\n",
      "7            9   58750.00\n",
      "8           10   82500.00\n",
      "9           11   50000.00\n",
      "10          12   65000.00\n",
      "11          13   93499.25\n",
      "12          14   77499.25\n",
      "13          15  102500.00\n",
      "14          16   86888.00\n",
      "15          17   77500.00\n",
      "16          18   83750.00\n",
      "17          19  180000.00\n",
      "18          20   55000.00\n",
      "19          21  139500.00\n",
      "20          24  145000.00\n",
      "21          25   98000.00\n",
      "22          26   19000.00\n",
      "23          27   59250.00\n",
      "24          38  225000.00\n"
     ]
    }
   ],
   "source": [
    "print(high_prices)"
   ]
  },
  {
   "cell_type": "raw",
   "metadata": {},
   "source": []
  },
  {
   "cell_type": "markdown",
   "metadata": {},
   "source": [
    "Calculating Aggregate Functions IV\n",
    "Sometimes, we want to group by more than one column. We can easily do this by passing a list of column names into the groupby method."
   ]
  },
  {
   "cell_type": "code",
   "execution_count": 48,
   "metadata": {},
   "outputs": [],
   "source": [
    "random_data = data.groupby(['Living.Room', 'Bathroom']).Price.max().reset_index()"
   ]
  },
  {
   "cell_type": "code",
   "execution_count": 49,
   "metadata": {},
   "outputs": [
    {
     "name": "stdout",
     "output_type": "stream",
     "text": [
      "    Living.Room  Bathroom   Price\n",
      "0             0         0   85000\n",
      "1             0         1   67000\n",
      "2             1         1   89000\n",
      "3             1         2  206000\n",
      "4             2         1   60000\n",
      "5             2         2  250000\n",
      "6             2         3  225000\n",
      "7             2         4  180000\n",
      "8             2         5  180000\n",
      "9             3         2   46000\n",
      "10            3         3  150000\n",
      "11            3         4  180000\n",
      "12            4         4  180000\n"
     ]
    }
   ],
   "source": [
    "print(random_data)"
   ]
  },
  {
   "cell_type": "code",
   "execution_count": null,
   "metadata": {},
   "outputs": [],
   "source": []
  },
  {
   "cell_type": "markdown",
   "metadata": {},
   "source": [
    "# PIVOT TABLE"
   ]
  },
  {
   "cell_type": "raw",
   "metadata": {},
   "source": [
    "When we perform a groupby across multiple columns, we often want to change how our data is stored.\n",
    "In Pandas, the command for pivot is:\n",
    "\n",
    "df.pivot(columns='ColumnToPivot',\n",
    "         index='ColumnToBeRows',\n",
    "         values='ColumnToBeValues')\n",
    "Just like with groupby, the output of a pivot command is a new DataFrame, but the indexing tends to be “weird”, so we usually follow up with .reset_index()."
   ]
  },
  {
   "cell_type": "code",
   "execution_count": 50,
   "metadata": {},
   "outputs": [],
   "source": [
    "count_room = data.groupby(['Floor', 'Bathroom'])['Unnamed: 0'].count().reset_index()"
   ]
  },
  {
   "cell_type": "code",
   "execution_count": 51,
   "metadata": {},
   "outputs": [
    {
     "name": "stdout",
     "output_type": "stream",
     "text": [
      "    Floor  Bathroom  Unnamed: 0\n",
      "0       1         1           3\n",
      "1       1         2          11\n",
      "2       1         3           7\n",
      "3       1         4           1\n",
      "4       2         1          32\n",
      "5       2         2          66\n",
      "6       2         3           4\n",
      "7       2         4           1\n",
      "8       3         1          19\n",
      "9       3         2          42\n",
      "10      3         3           8\n",
      "11      4         1          17\n",
      "12      4         2          52\n",
      "13      4         3           2\n",
      "14      4         4           1\n",
      "15      4         5           3\n",
      "16      5         1          34\n",
      "17      5         2          52\n",
      "18      5         3           2\n",
      "19      6         1          20\n",
      "20      6         2          51\n",
      "21      6         3           4\n",
      "22      7         1          20\n",
      "23      7         2          17\n",
      "24      7         3           4\n",
      "25      7         5           1\n",
      "26      8         1          16\n",
      "27      8         2          19\n",
      "28      8         3           1\n",
      "29      9         1           7\n",
      "30      9         2          18\n",
      "31      9         3           1\n",
      "32     10         0           1\n",
      "33     10         1          11\n",
      "34     10         2          21\n",
      "35     10         3           1\n",
      "36     11         1           4\n",
      "37     11         2          13\n",
      "38     11         3           2\n",
      "39     12         1           4\n",
      "40     12         2           5\n",
      "41     12         3           4\n",
      "42     13         1           5\n",
      "43     13         2           9\n",
      "44     14         1           5\n",
      "45     14         2           1\n",
      "46     15         2           2\n",
      "47     15         4           2\n",
      "48     16         3           1\n",
      "49     16         4           1\n",
      "50     17         2           2\n",
      "51     18         2           3\n",
      "52     19         3           4\n",
      "53     19         4           3\n",
      "54     21         2           2\n",
      "55     21         3           1\n",
      "56     21         4           1\n",
      "57     22         1           1\n"
     ]
    }
   ],
   "source": [
    "print(count_room)"
   ]
  },
  {
   "cell_type": "code",
   "execution_count": 52,
   "metadata": {},
   "outputs": [],
   "source": [
    "pivot_col = count_room.pivot(columns = 'Floor',\n",
    "                            index = 'Bathroom',\n",
    "                            values = 'Unnamed: 0').reset_index()"
   ]
  },
  {
   "cell_type": "code",
   "execution_count": 53,
   "metadata": {},
   "outputs": [
    {
     "name": "stdout",
     "output_type": "stream",
     "text": [
      "Floor  Bathroom     1     2     3     4     5     6     7     8     9  ...  \\\n",
      "0             0   NaN   NaN   NaN   NaN   NaN   NaN   NaN   NaN   NaN  ...   \n",
      "1             1   3.0  32.0  19.0  17.0  34.0  20.0  20.0  16.0   7.0  ...   \n",
      "2             2  11.0  66.0  42.0  52.0  52.0  51.0  17.0  19.0  18.0  ...   \n",
      "3             3   7.0   4.0   8.0   2.0   2.0   4.0   4.0   1.0   1.0  ...   \n",
      "4             4   1.0   1.0   NaN   1.0   NaN   NaN   NaN   NaN   NaN  ...   \n",
      "5             5   NaN   NaN   NaN   3.0   NaN   NaN   1.0   NaN   NaN  ...   \n",
      "\n",
      "Floor   12   13   14   15   16   17   18   19   21   22  \n",
      "0      NaN  NaN  NaN  NaN  NaN  NaN  NaN  NaN  NaN  NaN  \n",
      "1      4.0  5.0  5.0  NaN  NaN  NaN  NaN  NaN  NaN  1.0  \n",
      "2      5.0  9.0  1.0  2.0  NaN  2.0  3.0  NaN  2.0  NaN  \n",
      "3      4.0  NaN  NaN  NaN  1.0  NaN  NaN  4.0  1.0  NaN  \n",
      "4      NaN  NaN  NaN  2.0  1.0  NaN  NaN  3.0  1.0  NaN  \n",
      "5      NaN  NaN  NaN  NaN  NaN  NaN  NaN  NaN  NaN  NaN  \n",
      "\n",
      "[6 rows x 22 columns]\n"
     ]
    }
   ],
   "source": [
    "print(pivot_col)"
   ]
  },
  {
   "cell_type": "code",
   "execution_count": null,
   "metadata": {},
   "outputs": [],
   "source": []
  },
  {
   "cell_type": "markdown",
   "metadata": {},
   "source": [
    "# MULTIPLE DATAFRAMES"
   ]
  },
  {
   "cell_type": "markdown",
   "metadata": {},
   "source": [
    "In order to efficiently store data, we often spread related information across multiple tables."
   ]
  },
  {
   "cell_type": "raw",
   "metadata": {},
   "source": [
    "The .merge method looks for columns that are common between two DataFrames and then looks for rows where those column’s values are the same. It then combines the matching rows into a single row in a new table.\n",
    "\n",
    "We can call the pd.merge method with two tables like this:\n",
    "\n",
    "new_df = pd.merge(DataFrame1, DataFrame2)\n",
    "This will match up all of the DataFrame1 information to the Dataframe2."
   ]
  },
  {
   "cell_type": "code",
   "execution_count": 54,
   "metadata": {},
   "outputs": [
    {
     "data": {
      "text/html": [
       "<div>\n",
       "<style scoped>\n",
       "    .dataframe tbody tr th:only-of-type {\n",
       "        vertical-align: middle;\n",
       "    }\n",
       "\n",
       "    .dataframe tbody tr th {\n",
       "        vertical-align: top;\n",
       "    }\n",
       "\n",
       "    .dataframe thead th {\n",
       "        text-align: right;\n",
       "    }\n",
       "</style>\n",
       "<table border=\"1\" class=\"dataframe\">\n",
       "  <thead>\n",
       "    <tr style=\"text-align: right;\">\n",
       "      <th></th>\n",
       "      <th>order_id</th>\n",
       "      <th>customer_id</th>\n",
       "      <th>product_id</th>\n",
       "      <th>quantity</th>\n",
       "      <th>timestamp</th>\n",
       "    </tr>\n",
       "  </thead>\n",
       "  <tbody>\n",
       "    <tr>\n",
       "      <th>0</th>\n",
       "      <td>1</td>\n",
       "      <td>2</td>\n",
       "      <td>3</td>\n",
       "      <td>1</td>\n",
       "      <td>2017-01-01</td>\n",
       "    </tr>\n",
       "    <tr>\n",
       "      <th>1</th>\n",
       "      <td>2</td>\n",
       "      <td>2</td>\n",
       "      <td>2</td>\n",
       "      <td>3</td>\n",
       "      <td>2017-01-01</td>\n",
       "    </tr>\n",
       "    <tr>\n",
       "      <th>2</th>\n",
       "      <td>3</td>\n",
       "      <td>3</td>\n",
       "      <td>1</td>\n",
       "      <td>1</td>\n",
       "      <td>2017-01-01</td>\n",
       "    </tr>\n",
       "    <tr>\n",
       "      <th>3</th>\n",
       "      <td>4</td>\n",
       "      <td>3</td>\n",
       "      <td>2</td>\n",
       "      <td>2</td>\n",
       "      <td>2017-02-01</td>\n",
       "    </tr>\n",
       "    <tr>\n",
       "      <th>4</th>\n",
       "      <td>5</td>\n",
       "      <td>3</td>\n",
       "      <td>3</td>\n",
       "      <td>3</td>\n",
       "      <td>2017-02-01</td>\n",
       "    </tr>\n",
       "  </tbody>\n",
       "</table>\n",
       "</div>"
      ],
      "text/plain": [
       "   order_id  customer_id  product_id  quantity   timestamp\n",
       "0         1            2           3         1  2017-01-01\n",
       "1         2            2           2         3  2017-01-01\n",
       "2         3            3           1         1  2017-01-01\n",
       "3         4            3           2         2  2017-02-01\n",
       "4         5            3           3         3  2017-02-01"
      ]
     },
     "execution_count": 54,
     "metadata": {},
     "output_type": "execute_result"
    }
   ],
   "source": [
    "# Before doing this we need to make two dataframes\n",
    "demo1 = pd.DataFrame([\n",
    "     [1,2,3,1,'2017-01-01'],\n",
    "     [2,2,2,3,'2017-01-01'],\n",
    "     [3,3,1,1,'2017-01-01'],\n",
    "     [4,3,2,2,'2017-02-01'],\n",
    "     [5,3,3,3,'2017-02-01'],\n",
    "     [6,1,4,2,'2017-03-01'],\n",
    "     [7,1,1,1,'2017-02-02'],\n",
    "     [8,1,4,1,'2017-02-02']\n",
    " ],\n",
    " columns = ['order_id', 'customer_id', 'product_id', 'quantity', 'timestamp'])\n",
    "demo1.head()"
   ]
  },
  {
   "cell_type": "code",
   "execution_count": 55,
   "metadata": {},
   "outputs": [
    {
     "data": {
      "text/html": [
       "<div>\n",
       "<style scoped>\n",
       "    .dataframe tbody tr th:only-of-type {\n",
       "        vertical-align: middle;\n",
       "    }\n",
       "\n",
       "    .dataframe tbody tr th {\n",
       "        vertical-align: top;\n",
       "    }\n",
       "\n",
       "    .dataframe thead th {\n",
       "        text-align: right;\n",
       "    }\n",
       "</style>\n",
       "<table border=\"1\" class=\"dataframe\">\n",
       "  <thead>\n",
       "    <tr style=\"text-align: right;\">\n",
       "      <th></th>\n",
       "      <th>product_id</th>\n",
       "      <th>description</th>\n",
       "      <th>price</th>\n",
       "    </tr>\n",
       "  </thead>\n",
       "  <tbody>\n",
       "    <tr>\n",
       "      <th>0</th>\n",
       "      <td>1</td>\n",
       "      <td>thing-a-ma-jig</td>\n",
       "      <td>5</td>\n",
       "    </tr>\n",
       "    <tr>\n",
       "      <th>1</th>\n",
       "      <td>2</td>\n",
       "      <td>whatcha-ma-call-it</td>\n",
       "      <td>10</td>\n",
       "    </tr>\n",
       "    <tr>\n",
       "      <th>2</th>\n",
       "      <td>3</td>\n",
       "      <td>doo-hickey</td>\n",
       "      <td>7</td>\n",
       "    </tr>\n",
       "    <tr>\n",
       "      <th>3</th>\n",
       "      <td>4</td>\n",
       "      <td>gizmo</td>\n",
       "      <td>3</td>\n",
       "    </tr>\n",
       "  </tbody>\n",
       "</table>\n",
       "</div>"
      ],
      "text/plain": [
       "   product_id         description  price\n",
       "0           1      thing-a-ma-jig      5\n",
       "1           2  whatcha-ma-call-it     10\n",
       "2           3          doo-hickey      7\n",
       "3           4               gizmo      3"
      ]
     },
     "execution_count": 55,
     "metadata": {},
     "output_type": "execute_result"
    }
   ],
   "source": [
    "demo2 = pd.DataFrame([\n",
    "    [1, 'thing-a-ma-jig', 5],\n",
    "    [2, 'whatcha-ma-call-it', 10],\n",
    "    [3, 'doo-hickey', 7],\n",
    "    [4, 'gizmo', 3]\n",
    "],\n",
    " columns = ['product_id', 'description', 'price'])\n",
    "demo2.head()\n"
   ]
  },
  {
   "cell_type": "code",
   "execution_count": 56,
   "metadata": {},
   "outputs": [
    {
     "name": "stdout",
     "output_type": "stream",
     "text": [
      "   order_id  customer_id  product_id  quantity   timestamp  \\\n",
      "0         1            2           3         1  2017-01-01   \n",
      "1         5            3           3         3  2017-02-01   \n",
      "2         2            2           2         3  2017-01-01   \n",
      "3         4            3           2         2  2017-02-01   \n",
      "4         3            3           1         1  2017-01-01   \n",
      "5         7            1           1         1  2017-02-02   \n",
      "6         6            1           4         2  2017-03-01   \n",
      "7         8            1           4         1  2017-02-02   \n",
      "\n",
      "          description  price  \n",
      "0          doo-hickey      7  \n",
      "1          doo-hickey      7  \n",
      "2  whatcha-ma-call-it     10  \n",
      "3  whatcha-ma-call-it     10  \n",
      "4      thing-a-ma-jig      5  \n",
      "5      thing-a-ma-jig      5  \n",
      "6               gizmo      3  \n",
      "7               gizmo      3  \n"
     ]
    }
   ],
   "source": [
    "merge1 = pd.merge(demo1, demo2)\n",
    "print(merge1)"
   ]
  },
  {
   "cell_type": "raw",
   "metadata": {},
   "source": []
  },
  {
   "cell_type": "markdown",
   "metadata": {},
   "source": [
    "INNER MERGE 2"
   ]
  },
  {
   "cell_type": "markdown",
   "metadata": {},
   "source": [
    "Inner Merge III\n",
    "In addition to using pd.merge, each DataFrame has its own merge method. For instance, if you wanted to merge orders with customers, you could use:\n",
    "\n",
    "new_df = orders.merge(customers)\n",
    "\n",
    "This produces the same DataFrame as if we had called pd.merge(orders, customers).\n",
    "\n",
    "We generally use this when we are joining more than two DataFrames together because we can “chain” the commands. The following command would merge orders to customers, and then the resulting DataFrame to products:\n",
    "\n",
    "big_df = orders.merge(customers)\\\n",
    "    .merge(products)"
   ]
  },
  {
   "cell_type": "code",
   "execution_count": 57,
   "metadata": {},
   "outputs": [],
   "source": [
    "merge2 = demo1.merge(demo2)"
   ]
  },
  {
   "cell_type": "code",
   "execution_count": 58,
   "metadata": {},
   "outputs": [
    {
     "name": "stdout",
     "output_type": "stream",
     "text": [
      "   order_id  customer_id  product_id  quantity   timestamp  \\\n",
      "0         1            2           3         1  2017-01-01   \n",
      "1         5            3           3         3  2017-02-01   \n",
      "2         2            2           2         3  2017-01-01   \n",
      "3         4            3           2         2  2017-02-01   \n",
      "4         3            3           1         1  2017-01-01   \n",
      "5         7            1           1         1  2017-02-02   \n",
      "6         6            1           4         2  2017-03-01   \n",
      "7         8            1           4         1  2017-02-02   \n",
      "\n",
      "          description  price  \n",
      "0          doo-hickey      7  \n",
      "1          doo-hickey      7  \n",
      "2  whatcha-ma-call-it     10  \n",
      "3  whatcha-ma-call-it     10  \n",
      "4      thing-a-ma-jig      5  \n",
      "5      thing-a-ma-jig      5  \n",
      "6               gizmo      3  \n",
      "7               gizmo      3  \n"
     ]
    }
   ],
   "source": [
    "print(merge2)"
   ]
  },
  {
   "cell_type": "code",
   "execution_count": 59,
   "metadata": {},
   "outputs": [],
   "source": [
    "# to merge 3 different DataFrames we need to create one more DataFrame i.e demo3\n",
    "\n",
    "demo3 = pd.DataFrame([\n",
    "    [1, 'John Smith', 'Main St.' '212-123-4567'],\n",
    "    [2, 'Jane Doe', '456 Park Ave.', '949-867-5309'],\n",
    "    [3, 'Joe Schmo', '798 Broadway', '112-358-1321']\n",
    "],\n",
    "columns = ['customer_id', 'customer_name', 'address', 'phone_number'])"
   ]
  },
  {
   "cell_type": "code",
   "execution_count": 60,
   "metadata": {},
   "outputs": [
    {
     "data": {
      "text/html": [
       "<div>\n",
       "<style scoped>\n",
       "    .dataframe tbody tr th:only-of-type {\n",
       "        vertical-align: middle;\n",
       "    }\n",
       "\n",
       "    .dataframe tbody tr th {\n",
       "        vertical-align: top;\n",
       "    }\n",
       "\n",
       "    .dataframe thead th {\n",
       "        text-align: right;\n",
       "    }\n",
       "</style>\n",
       "<table border=\"1\" class=\"dataframe\">\n",
       "  <thead>\n",
       "    <tr style=\"text-align: right;\">\n",
       "      <th></th>\n",
       "      <th>customer_id</th>\n",
       "      <th>customer_name</th>\n",
       "      <th>address</th>\n",
       "      <th>phone_number</th>\n",
       "    </tr>\n",
       "  </thead>\n",
       "  <tbody>\n",
       "    <tr>\n",
       "      <th>0</th>\n",
       "      <td>1</td>\n",
       "      <td>John Smith</td>\n",
       "      <td>Main St.212-123-4567</td>\n",
       "      <td>None</td>\n",
       "    </tr>\n",
       "    <tr>\n",
       "      <th>1</th>\n",
       "      <td>2</td>\n",
       "      <td>Jane Doe</td>\n",
       "      <td>456 Park Ave.</td>\n",
       "      <td>949-867-5309</td>\n",
       "    </tr>\n",
       "    <tr>\n",
       "      <th>2</th>\n",
       "      <td>3</td>\n",
       "      <td>Joe Schmo</td>\n",
       "      <td>798 Broadway</td>\n",
       "      <td>112-358-1321</td>\n",
       "    </tr>\n",
       "  </tbody>\n",
       "</table>\n",
       "</div>"
      ],
      "text/plain": [
       "   customer_id customer_name               address  phone_number\n",
       "0            1    John Smith  Main St.212-123-4567          None\n",
       "1            2      Jane Doe         456 Park Ave.  949-867-5309\n",
       "2            3     Joe Schmo          798 Broadway  112-358-1321"
      ]
     },
     "execution_count": 60,
     "metadata": {},
     "output_type": "execute_result"
    }
   ],
   "source": [
    "demo3.head()"
   ]
  },
  {
   "cell_type": "code",
   "execution_count": 61,
   "metadata": {},
   "outputs": [],
   "source": [
    "merge3 = demo1.merge(demo2).merge(demo3)"
   ]
  },
  {
   "cell_type": "code",
   "execution_count": 62,
   "metadata": {},
   "outputs": [
    {
     "name": "stdout",
     "output_type": "stream",
     "text": [
      "   order_id  customer_id  product_id  quantity   timestamp  \\\n",
      "0         1            2           3         1  2017-01-01   \n",
      "1         2            2           2         3  2017-01-01   \n",
      "2         5            3           3         3  2017-02-01   \n",
      "3         4            3           2         2  2017-02-01   \n",
      "4         3            3           1         1  2017-01-01   \n",
      "5         7            1           1         1  2017-02-02   \n",
      "6         6            1           4         2  2017-03-01   \n",
      "7         8            1           4         1  2017-02-02   \n",
      "\n",
      "          description  price customer_name               address  phone_number  \n",
      "0          doo-hickey      7      Jane Doe         456 Park Ave.  949-867-5309  \n",
      "1  whatcha-ma-call-it     10      Jane Doe         456 Park Ave.  949-867-5309  \n",
      "2          doo-hickey      7     Joe Schmo          798 Broadway  112-358-1321  \n",
      "3  whatcha-ma-call-it     10     Joe Schmo          798 Broadway  112-358-1321  \n",
      "4      thing-a-ma-jig      5     Joe Schmo          798 Broadway  112-358-1321  \n",
      "5      thing-a-ma-jig      5    John Smith  Main St.212-123-4567          None  \n",
      "6               gizmo      3    John Smith  Main St.212-123-4567          None  \n",
      "7               gizmo      3    John Smith  Main St.212-123-4567          None  \n"
     ]
    }
   ],
   "source": [
    "print(merge3)"
   ]
  },
  {
   "cell_type": "code",
   "execution_count": 63,
   "metadata": {},
   "outputs": [
    {
     "name": "stdout",
     "output_type": "stream",
     "text": [
      "[1, 2, 3, 4, 5]\n"
     ]
    }
   ],
   "source": [
    "list1 = [1,1,2,1,3,2,4,4,4,4,1,2,5]\n",
    "list2 = []\n",
    "\n",
    "for i in list1:\n",
    "    if i in list2:\n",
    "        continue\n",
    "    else:\n",
    "        list2.append(i)\n",
    "print(list2)"
   ]
  }
 ],
 "metadata": {
  "kernelspec": {
   "display_name": "Python 3",
   "language": "python",
   "name": "python3"
  },
  "language_info": {
   "codemirror_mode": {
    "name": "ipython",
    "version": 3
   },
   "file_extension": ".py",
   "mimetype": "text/x-python",
   "name": "python",
   "nbconvert_exporter": "python",
   "pygments_lexer": "ipython3",
   "version": "3.7.6"
  }
 },
 "nbformat": 4,
 "nbformat_minor": 4
}
